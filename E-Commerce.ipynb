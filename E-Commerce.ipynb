{
 "cells": [
  {
   "cell_type": "markdown",
   "id": "d29e0d45",
   "metadata": {},
   "source": [
    "## Importing Libraries"
   ]
  },
  {
   "cell_type": "code",
   "execution_count": 1,
   "id": "9262c825",
   "metadata": {},
   "outputs": [],
   "source": [
    "import pandas as pd\n",
    "import os\n",
    "import numpy as np\n",
    "import matplotlib.pyplot as plt\n",
    "import seaborn as sns\n",
    "from mpl_toolkits.mplot3d import Axes3D\n",
    "from matplotlib.colors import ListedColormap\n",
    "from IPython import get_ipython\n",
    "from sklearn.preprocessing import StandardScaler\n",
    "from sklearn.cluster import KMeans\n",
    "from sklearn.metrics import silhouette_samples, silhouette_score\n",
    "from yellowbrick.cluster.elbow import kelbow_visualizer\n",
    "from yellowbrick.cluster import SilhouetteVisualizer\n",
    "\n",
    "pd.set_option('display.precision', 3)\n",
    "%matplotlib inline"
   ]
  },
  {
   "cell_type": "markdown",
   "id": "ac66a26c",
   "metadata": {},
   "source": [
    "## Importing Excel File"
   ]
  },
  {
   "cell_type": "code",
   "execution_count": 5,
   "id": "18fb637e",
   "metadata": {},
   "outputs": [],
   "source": [
    "os.chdir(r\"C:\\Users\\Priya Sharma\\OneDrive\\Desktop\\EcommerceAnalytics (1)\\Ecommerce Analytics\")\n",
    "df=pd.read_excel(\"E-com_Data.xlsx\")"
   ]
  },
  {
   "cell_type": "code",
   "execution_count": 6,
   "id": "9b50b388",
   "metadata": {},
   "outputs": [
    {
     "name": "stdout",
     "output_type": "stream",
     "text": [
      "<class 'pandas.core.frame.DataFrame'>\n",
      "RangeIndex: 537979 entries, 0 to 537978\n",
      "Data columns (total 12 columns):\n",
      " #   Column             Non-Null Count   Dtype         \n",
      "---  ------             --------------   -----         \n",
      " 0   CustomerID         404189 non-null  float64       \n",
      " 1   Item Code          537979 non-null  object        \n",
      " 2   InvoieNo           537979 non-null  int64         \n",
      " 3   Date of purchase   537979 non-null  datetime64[ns]\n",
      " 4   Quantity           537979 non-null  int64         \n",
      " 5   Time               537979 non-null  object        \n",
      " 6   price per Unit     537979 non-null  float64       \n",
      " 7   Price              537979 non-null  float64       \n",
      " 8   Shipping Location  537979 non-null  object        \n",
      " 9   Cancelled_status   8345 non-null    float64       \n",
      " 10  Reason of return   3 non-null       object        \n",
      " 11  Sold as set        0 non-null       float64       \n",
      "dtypes: datetime64[ns](1), float64(5), int64(2), object(4)\n",
      "memory usage: 49.3+ MB\n"
     ]
    },
    {
     "data": {
      "text/html": [
       "<div>\n",
       "<style scoped>\n",
       "    .dataframe tbody tr th:only-of-type {\n",
       "        vertical-align: middle;\n",
       "    }\n",
       "\n",
       "    .dataframe tbody tr th {\n",
       "        vertical-align: top;\n",
       "    }\n",
       "\n",
       "    .dataframe thead th {\n",
       "        text-align: right;\n",
       "    }\n",
       "</style>\n",
       "<table border=\"1\" class=\"dataframe\">\n",
       "  <thead>\n",
       "    <tr style=\"text-align: right;\">\n",
       "      <th></th>\n",
       "      <th>CustomerID</th>\n",
       "      <th>Item Code</th>\n",
       "      <th>InvoieNo</th>\n",
       "      <th>Date of purchase</th>\n",
       "      <th>Quantity</th>\n",
       "      <th>Time</th>\n",
       "      <th>price per Unit</th>\n",
       "      <th>Price</th>\n",
       "      <th>Shipping Location</th>\n",
       "      <th>Cancelled_status</th>\n",
       "      <th>Reason of return</th>\n",
       "      <th>Sold as set</th>\n",
       "    </tr>\n",
       "  </thead>\n",
       "  <tbody>\n",
       "    <tr>\n",
       "      <th>0</th>\n",
       "      <td>4355.0</td>\n",
       "      <td>15734</td>\n",
       "      <td>398177</td>\n",
       "      <td>2017-10-29</td>\n",
       "      <td>6</td>\n",
       "      <td>15:36:00</td>\n",
       "      <td>321.0</td>\n",
       "      <td>1926.0</td>\n",
       "      <td>Location 1</td>\n",
       "      <td>NaN</td>\n",
       "      <td>NaN</td>\n",
       "      <td>NaN</td>\n",
       "    </tr>\n",
       "    <tr>\n",
       "      <th>1</th>\n",
       "      <td>4352.0</td>\n",
       "      <td>14616</td>\n",
       "      <td>394422</td>\n",
       "      <td>2017-10-05</td>\n",
       "      <td>2</td>\n",
       "      <td>14:53:00</td>\n",
       "      <td>870.0</td>\n",
       "      <td>1740.0</td>\n",
       "      <td>Location 1</td>\n",
       "      <td>NaN</td>\n",
       "      <td>NaN</td>\n",
       "      <td>NaN</td>\n",
       "    </tr>\n",
       "    <tr>\n",
       "      <th>2</th>\n",
       "      <td>4352.0</td>\n",
       "      <td>14614</td>\n",
       "      <td>394422</td>\n",
       "      <td>2017-10-12</td>\n",
       "      <td>2</td>\n",
       "      <td>14:53:00</td>\n",
       "      <td>933.0</td>\n",
       "      <td>1866.0</td>\n",
       "      <td>Location 1</td>\n",
       "      <td>NaN</td>\n",
       "      <td>NaN</td>\n",
       "      <td>NaN</td>\n",
       "    </tr>\n",
       "    <tr>\n",
       "      <th>3</th>\n",
       "      <td>4352.0</td>\n",
       "      <td>85014B</td>\n",
       "      <td>388633</td>\n",
       "      <td>2017-08-22</td>\n",
       "      <td>3</td>\n",
       "      <td>14:47:00</td>\n",
       "      <td>623.0</td>\n",
       "      <td>1869.0</td>\n",
       "      <td>Location 1</td>\n",
       "      <td>NaN</td>\n",
       "      <td>NaN</td>\n",
       "      <td>NaN</td>\n",
       "    </tr>\n",
       "    <tr>\n",
       "      <th>4</th>\n",
       "      <td>4352.0</td>\n",
       "      <td>15364</td>\n",
       "      <td>394422</td>\n",
       "      <td>2017-10-10</td>\n",
       "      <td>2</td>\n",
       "      <td>14:53:00</td>\n",
       "      <td>944.0</td>\n",
       "      <td>1888.0</td>\n",
       "      <td>Location 1</td>\n",
       "      <td>NaN</td>\n",
       "      <td>NaN</td>\n",
       "      <td>NaN</td>\n",
       "    </tr>\n",
       "  </tbody>\n",
       "</table>\n",
       "</div>"
      ],
      "text/plain": [
       "   CustomerID Item Code  InvoieNo Date of purchase  Quantity      Time  \\\n",
       "0      4355.0     15734    398177       2017-10-29         6  15:36:00   \n",
       "1      4352.0     14616    394422       2017-10-05         2  14:53:00   \n",
       "2      4352.0     14614    394422       2017-10-12         2  14:53:00   \n",
       "3      4352.0    85014B    388633       2017-08-22         3  14:47:00   \n",
       "4      4352.0     15364    394422       2017-10-10         2  14:53:00   \n",
       "\n",
       "   price per Unit   Price Shipping Location  Cancelled_status  \\\n",
       "0           321.0  1926.0        Location 1               NaN   \n",
       "1           870.0  1740.0        Location 1               NaN   \n",
       "2           933.0  1866.0        Location 1               NaN   \n",
       "3           623.0  1869.0        Location 1               NaN   \n",
       "4           944.0  1888.0        Location 1               NaN   \n",
       "\n",
       "  Reason of return  Sold as set  \n",
       "0              NaN          NaN  \n",
       "1              NaN          NaN  \n",
       "2              NaN          NaN  \n",
       "3              NaN          NaN  \n",
       "4              NaN          NaN  "
      ]
     },
     "execution_count": 6,
     "metadata": {},
     "output_type": "execute_result"
    }
   ],
   "source": [
    "## Understanding Data\n",
    "df.shape\n",
    "df.info()\n",
    "df.head()"
   ]
  },
  {
   "cell_type": "code",
   "execution_count": 7,
   "id": "f164aedf",
   "metadata": {},
   "outputs": [
    {
     "data": {
      "text/plain": [
       "Sold as set          537979\n",
       "Reason of return     537976\n",
       "Cancelled_status     529634\n",
       "CustomerID           133790\n",
       "Item Code                 0\n",
       "InvoieNo                  0\n",
       "Date of purchase          0\n",
       "Quantity                  0\n",
       "Time                      0\n",
       "price per Unit            0\n",
       "Price                     0\n",
       "Shipping Location         0\n",
       "dtype: int64"
      ]
     },
     "execution_count": 7,
     "metadata": {},
     "output_type": "execute_result"
    }
   ],
   "source": [
    "## Checking null vaues\n",
    "df.isnull().sum().sort_values(ascending=False)"
   ]
  },
  {
   "cell_type": "code",
   "execution_count": 8,
   "id": "a36049e4",
   "metadata": {},
   "outputs": [
    {
     "data": {
      "text/plain": [
       "Cancelled_status     396006\n",
       "CustomerID                0\n",
       "Item Code                 0\n",
       "InvoieNo                  0\n",
       "Date of purchase          0\n",
       "Quantity                  0\n",
       "Time                      0\n",
       "price per Unit            0\n",
       "Price                     0\n",
       "Shipping Location         0\n",
       "dtype: int64"
      ]
     },
     "execution_count": 8,
     "metadata": {},
     "output_type": "execute_result"
    }
   ],
   "source": [
    "## Fixing Null Values\n",
    "## Removing Insignificant Columns\n",
    "df1=df.copy()\n",
    "df1.drop(['Reason of return','Sold as set'], axis=1, inplace=True)\n",
    "## Deleting Rows for CustomerID with Null Values\n",
    "df1.dropna(subset=['CustomerID'], inplace=True)\n",
    "## Checking null values\n",
    "df1.isnull().sum().sort_values(ascending=False)"
   ]
  },
  {
   "cell_type": "code",
   "execution_count": 9,
   "id": "3bf1530b",
   "metadata": {},
   "outputs": [],
   "source": [
    "## Renaming Columns\n",
    "\n",
    "df1.rename(columns={'Item Code': 'Item_Code', 'Date of purchase': 'Date_of_purchase', 'price per Unit': 'price_per_unit', 'Shipping Location': 'Shipping_Location', 'Price': 'Revenue', 'InvoieNo': 'InvoiceNo'}, inplace=True)"
   ]
  },
  {
   "cell_type": "code",
   "execution_count": 10,
   "id": "0898f9e3",
   "metadata": {},
   "outputs": [
    {
     "name": "stdout",
     "output_type": "stream",
     "text": [
      "<class 'pandas.core.frame.DataFrame'>\n",
      "Int64Index: 404189 entries, 0 to 537949\n",
      "Data columns (total 10 columns):\n",
      " #   Column             Non-Null Count   Dtype         \n",
      "---  ------             --------------   -----         \n",
      " 0   CustomerID         404189 non-null  int64         \n",
      " 1   Item_Code          404189 non-null  object        \n",
      " 2   InvoiceNo          404189 non-null  object        \n",
      " 3   Date_of_purchase   404189 non-null  datetime64[ns]\n",
      " 4   Quantity           404189 non-null  int64         \n",
      " 5   Time               404189 non-null  object        \n",
      " 6   price_per_unit     404189 non-null  float64       \n",
      " 7   Revenue            404189 non-null  float64       \n",
      " 8   Shipping_Location  404189 non-null  object        \n",
      " 9   Cancelled_status   8183 non-null    float64       \n",
      "dtypes: datetime64[ns](1), float64(3), int64(2), object(4)\n",
      "memory usage: 33.9+ MB\n"
     ]
    }
   ],
   "source": [
    "## Fixing Data Types\n",
    "\n",
    "df1['CustomerID'] = df1['CustomerID'].astype('int64')\n",
    "df1['InvoiceNo'] = df1['InvoiceNo'].astype('str')\n",
    "df1.info()"
   ]
  },
  {
   "cell_type": "code",
   "execution_count": 11,
   "id": "2c9bcf86",
   "metadata": {},
   "outputs": [
    {
     "name": "stdout",
     "output_type": "stream",
     "text": [
      "Duplicate Rows :\n"
     ]
    },
    {
     "data": {
      "text/plain": [
       "(404181, 10)"
      ]
     },
     "execution_count": 11,
     "metadata": {},
     "output_type": "execute_result"
    }
   ],
   "source": [
    "## Checking for Duplicate Rows\n",
    "\n",
    "duplicate = df1[df1.duplicated()]\n",
    "print(\"Duplicate Rows :\")\n",
    "duplicate\n",
    "\n",
    "#Removing Duplicate Rows\n",
    "\n",
    "df1.drop_duplicates(subset=None,keep='first',inplace=True)\n",
    "\n",
    "## Shape of the Data aftr Pre-Processing\n",
    "df1.shape"
   ]
  },
  {
   "cell_type": "code",
   "execution_count": 12,
   "id": "5ab31e06",
   "metadata": {},
   "outputs": [],
   "source": [
    "## File for EDA in Excel\n",
    "#df1.to_excel('EDA.xlsx')"
   ]
  },
  {
   "cell_type": "code",
   "execution_count": 13,
   "id": "5ad237c4",
   "metadata": {},
   "outputs": [],
   "source": [
    "## Dropping Insignificant columns for RFM\n",
    "df1.drop(['Item_Code','Quantity','Time','price_per_unit','Shipping_Location','Cancelled_status'],axis=1,inplace=True)"
   ]
  },
  {
   "cell_type": "code",
   "execution_count": 14,
   "id": "77d48a62",
   "metadata": {},
   "outputs": [
    {
     "data": {
      "text/plain": [
       "(404181, 4)"
      ]
     },
     "execution_count": 14,
     "metadata": {},
     "output_type": "execute_result"
    }
   ],
   "source": [
    "df1.shape"
   ]
  },
  {
   "cell_type": "code",
   "execution_count": 15,
   "id": "fc7c410b",
   "metadata": {},
   "outputs": [
    {
     "data": {
      "text/html": [
       "<div>\n",
       "<style scoped>\n",
       "    .dataframe tbody tr th:only-of-type {\n",
       "        vertical-align: middle;\n",
       "    }\n",
       "\n",
       "    .dataframe tbody tr th {\n",
       "        vertical-align: top;\n",
       "    }\n",
       "\n",
       "    .dataframe thead th {\n",
       "        text-align: right;\n",
       "    }\n",
       "</style>\n",
       "<table border=\"1\" class=\"dataframe\">\n",
       "  <thead>\n",
       "    <tr style=\"text-align: right;\">\n",
       "      <th></th>\n",
       "      <th>CustomerID</th>\n",
       "      <th>InvoiceNo</th>\n",
       "      <th>Date_of_purchase</th>\n",
       "      <th>Revenue</th>\n",
       "    </tr>\n",
       "  </thead>\n",
       "  <tbody>\n",
       "    <tr>\n",
       "      <th>0</th>\n",
       "      <td>4355</td>\n",
       "      <td>398177</td>\n",
       "      <td>2017-10-29</td>\n",
       "      <td>1926.0</td>\n",
       "    </tr>\n",
       "    <tr>\n",
       "      <th>1</th>\n",
       "      <td>4352</td>\n",
       "      <td>394422</td>\n",
       "      <td>2017-10-05</td>\n",
       "      <td>1740.0</td>\n",
       "    </tr>\n",
       "    <tr>\n",
       "      <th>2</th>\n",
       "      <td>4352</td>\n",
       "      <td>394422</td>\n",
       "      <td>2017-10-12</td>\n",
       "      <td>1866.0</td>\n",
       "    </tr>\n",
       "    <tr>\n",
       "      <th>3</th>\n",
       "      <td>4352</td>\n",
       "      <td>388633</td>\n",
       "      <td>2017-08-22</td>\n",
       "      <td>1869.0</td>\n",
       "    </tr>\n",
       "    <tr>\n",
       "      <th>4</th>\n",
       "      <td>4352</td>\n",
       "      <td>394422</td>\n",
       "      <td>2017-10-10</td>\n",
       "      <td>1888.0</td>\n",
       "    </tr>\n",
       "  </tbody>\n",
       "</table>\n",
       "</div>"
      ],
      "text/plain": [
       "   CustomerID InvoiceNo Date_of_purchase  Revenue\n",
       "0        4355    398177       2017-10-29   1926.0\n",
       "1        4352    394422       2017-10-05   1740.0\n",
       "2        4352    394422       2017-10-12   1866.0\n",
       "3        4352    388633       2017-08-22   1869.0\n",
       "4        4352    394422       2017-10-10   1888.0"
      ]
     },
     "execution_count": 15,
     "metadata": {},
     "output_type": "execute_result"
    }
   ],
   "source": [
    "df1.head()"
   ]
  },
  {
   "cell_type": "code",
   "execution_count": 16,
   "id": "05b95592",
   "metadata": {},
   "outputs": [
    {
     "data": {
      "text/plain": [
       "False    4319\n",
       "True       30\n",
       "Name: DI, dtype: int64"
      ]
     },
     "execution_count": 16,
     "metadata": {},
     "output_type": "execute_result"
    }
   ],
   "source": [
    "# Deleting CustomerID where sum of Price is <= 0 #\n",
    "dfneg = pd.DataFrame(df1.groupby(['CustomerID'])['Revenue'].sum()<=0)\n",
    "dfneg.columns = ['DI']\n",
    "dfneg.DI.value_counts()"
   ]
  },
  {
   "cell_type": "code",
   "execution_count": 17,
   "id": "30520e33",
   "metadata": {},
   "outputs": [],
   "source": [
    "df1 = pd.merge(df1,dfneg,on ='CustomerID',how ='left')"
   ]
  },
  {
   "cell_type": "code",
   "execution_count": 18,
   "id": "6500b546",
   "metadata": {},
   "outputs": [
    {
     "name": "stdout",
     "output_type": "stream",
     "text": [
      "<class 'pandas.core.frame.DataFrame'>\n",
      "Int64Index: 403843 entries, 0 to 404180\n",
      "Data columns (total 4 columns):\n",
      " #   Column            Non-Null Count   Dtype         \n",
      "---  ------            --------------   -----         \n",
      " 0   CustomerID        403843 non-null  int64         \n",
      " 1   InvoiceNo         403843 non-null  object        \n",
      " 2   Date_of_purchase  403843 non-null  datetime64[ns]\n",
      " 3   Revenue           403843 non-null  float64       \n",
      "dtypes: datetime64[ns](1), float64(1), int64(1), object(1)\n",
      "memory usage: 15.4+ MB\n"
     ]
    }
   ],
   "source": [
    "df1 = df1[df1['DI'] == False]\n",
    "df1 = df1.drop(['DI'], axis=1)\n",
    "df1.info()"
   ]
  },
  {
   "cell_type": "code",
   "execution_count": 19,
   "id": "5a47c1d8",
   "metadata": {},
   "outputs": [
    {
     "name": "stdout",
     "output_type": "stream",
     "text": [
      "<class 'pandas.core.frame.DataFrame'>\n",
      "Int64Index: 4319 entries, 2 to 4372\n",
      "Data columns (total 3 columns):\n",
      " #   Column     Non-Null Count  Dtype  \n",
      "---  ------     --------------  -----  \n",
      " 0   Recency    4319 non-null   int64  \n",
      " 1   Frequency  4319 non-null   int64  \n",
      " 2   Monetary   4319 non-null   float64\n",
      "dtypes: float64(1), int64(2)\n",
      "memory usage: 135.0 KB\n"
     ]
    },
    {
     "data": {
      "text/plain": [
       "(4319, 3)"
      ]
     },
     "execution_count": 19,
     "metadata": {},
     "output_type": "execute_result"
    }
   ],
   "source": [
    "## RFM\n",
    "##Grouping the Customer Data by Invoice ID\n",
    "rfm_df=df1.groupby(['CustomerID']).agg({'InvoiceNo':'nunique', 'Revenue':'sum','Date_of_purchase':['min','max']})\n",
    "\n",
    "\n",
    "## Calculating RFM Values\n",
    "rfm_df.columns=['count','Total','min_date','max_date']\n",
    "max_date=rfm_df['max_date'].max()\n",
    "rfm_df['Recency'] = max_date-rfm_df['max_date']\n",
    "rfm_df['Recency'] = rfm_df['Recency'].dt.days+1\n",
    "rfm_df['Frequency'] = rfm_df['count']\n",
    "rfm_df['Monetary'] = rfm_df['Total']\n",
    "rfm_df=rfm_df.drop(['count','Total','min_date','max_date'],axis=1)\n",
    "rfm_df.info()\n",
    "rfm_df.shape\n"
   ]
  },
  {
   "cell_type": "code",
   "execution_count": 20,
   "id": "dbdc1784",
   "metadata": {},
   "outputs": [
    {
     "data": {
      "text/html": [
       "<div>\n",
       "<style scoped>\n",
       "    .dataframe tbody tr th:only-of-type {\n",
       "        vertical-align: middle;\n",
       "    }\n",
       "\n",
       "    .dataframe tbody tr th {\n",
       "        vertical-align: top;\n",
       "    }\n",
       "\n",
       "    .dataframe thead th {\n",
       "        text-align: right;\n",
       "    }\n",
       "</style>\n",
       "<table border=\"1\" class=\"dataframe\">\n",
       "  <thead>\n",
       "    <tr style=\"text-align: right;\">\n",
       "      <th></th>\n",
       "      <th>Recency</th>\n",
       "      <th>Frequency</th>\n",
       "      <th>Monetary</th>\n",
       "    </tr>\n",
       "    <tr>\n",
       "      <th>CustomerID</th>\n",
       "      <th></th>\n",
       "      <th></th>\n",
       "      <th></th>\n",
       "    </tr>\n",
       "  </thead>\n",
       "  <tbody>\n",
       "    <tr>\n",
       "      <th>2</th>\n",
       "      <td>4</td>\n",
       "      <td>7</td>\n",
       "      <td>553704.0</td>\n",
       "    </tr>\n",
       "    <tr>\n",
       "      <th>3</th>\n",
       "      <td>77</td>\n",
       "      <td>4</td>\n",
       "      <td>257404.0</td>\n",
       "    </tr>\n",
       "    <tr>\n",
       "      <th>4</th>\n",
       "      <td>19</td>\n",
       "      <td>1</td>\n",
       "      <td>176613.0</td>\n",
       "    </tr>\n",
       "    <tr>\n",
       "      <th>5</th>\n",
       "      <td>311</td>\n",
       "      <td>1</td>\n",
       "      <td>41976.0</td>\n",
       "    </tr>\n",
       "    <tr>\n",
       "      <th>6</th>\n",
       "      <td>37</td>\n",
       "      <td>8</td>\n",
       "      <td>151822.0</td>\n",
       "    </tr>\n",
       "  </tbody>\n",
       "</table>\n",
       "</div>"
      ],
      "text/plain": [
       "            Recency  Frequency  Monetary\n",
       "CustomerID                              \n",
       "2                 4          7  553704.0\n",
       "3                77          4  257404.0\n",
       "4                19          1  176613.0\n",
       "5               311          1   41976.0\n",
       "6                37          8  151822.0"
      ]
     },
     "execution_count": 20,
     "metadata": {},
     "output_type": "execute_result"
    }
   ],
   "source": [
    "rfm_df.head()"
   ]
  },
  {
   "cell_type": "code",
   "execution_count": 21,
   "id": "8e97872d",
   "metadata": {},
   "outputs": [
    {
     "name": "stderr",
     "output_type": "stream",
     "text": [
      "C:\\ProgramData\\Anaconda3\\lib\\site-packages\\seaborn\\distributions.py:2619: FutureWarning: `distplot` is a deprecated function and will be removed in a future version. Please adapt your code to use either `displot` (a figure-level function with similar flexibility) or `histplot` (an axes-level function for histograms).\n",
      "  warnings.warn(msg, FutureWarning)\n",
      "C:\\ProgramData\\Anaconda3\\lib\\site-packages\\seaborn\\distributions.py:2619: FutureWarning: `distplot` is a deprecated function and will be removed in a future version. Please adapt your code to use either `displot` (a figure-level function with similar flexibility) or `histplot` (an axes-level function for histograms).\n",
      "  warnings.warn(msg, FutureWarning)\n",
      "C:\\ProgramData\\Anaconda3\\lib\\site-packages\\seaborn\\distributions.py:2619: FutureWarning: `distplot` is a deprecated function and will be removed in a future version. Please adapt your code to use either `displot` (a figure-level function with similar flexibility) or `histplot` (an axes-level function for histograms).\n",
      "  warnings.warn(msg, FutureWarning)\n"
     ]
    },
    {
     "data": {
      "text/plain": [
       "<AxesSubplot:xlabel='Monetary', ylabel='Density'>"
      ]
     },
     "execution_count": 21,
     "metadata": {},
     "output_type": "execute_result"
    },
    {
     "data": {
      "image/png": "[encoded data removed]",
      "text/plain": [
       "<Figure size 864x720 with 3 Axes>"
      ]
     },
     "metadata": {
      "needs_background": "light"
     },
     "output_type": "display_data"
    }
   ],
   "source": [
    "## Univariate Analyis of RFM Values\n",
    "rfm_stats = pd.DataFrame(rfm_df.describe())\n",
    "plt.figure(figsize=(12,10))\n",
    "# Plot distribution of Recency\n",
    "plt.subplot(3, 1, 1); sns.distplot(rfm_df['Recency'])\n",
    "# Plot distribution of Frequency\n",
    "plt.subplot(3, 1, 2); sns.distplot(rfm_df['Frequency'])\n",
    "# Plot distribution of Monetary Value\n",
    "plt.subplot(3, 1, 3); sns.distplot(rfm_df['Monetary'])"
   ]
  },
  {
   "cell_type": "code",
   "execution_count": 22,
   "id": "8a552705",
   "metadata": {},
   "outputs": [
    {
     "data": {
      "text/plain": [
       "{'whiskers': [<matplotlib.lines.Line2D at 0x1c5d8551400>,\n",
       "  <matplotlib.lines.Line2D at 0x1c5d8551790>],\n",
       " 'caps': [<matplotlib.lines.Line2D at 0x1c5d8551b20>,\n",
       "  <matplotlib.lines.Line2D at 0x1c5d8551eb0>],\n",
       " 'boxes': [<matplotlib.lines.Line2D at 0x1c5d8551070>],\n",
       " 'medians': [<matplotlib.lines.Line2D at 0x1c5d8550280>],\n",
       " 'fliers': [<matplotlib.lines.Line2D at 0x1c5d8550610>],\n",
       " 'means': []}"
      ]
     },
     "execution_count": 22,
     "metadata": {},
     "output_type": "execute_result"
    },
    {
     "data": {
      "image/png": "[encoded data removed]",
      "text/plain": [
       "<Figure size 432x288 with 1 Axes>"
      ]
     },
     "metadata": {
      "needs_background": "light"
     },
     "output_type": "display_data"
    }
   ],
   "source": [
    "plt.boxplot(rfm_df.Recency)"
   ]
  },
  {
   "cell_type": "code",
   "execution_count": 23,
   "id": "71cbd5f3",
   "metadata": {},
   "outputs": [
    {
     "data": {
      "text/plain": [
       "{'whiskers': [<matplotlib.lines.Line2D at 0x1c5dc4b2d30>,\n",
       "  <matplotlib.lines.Line2D at 0x1c5dc4a5100>],\n",
       " 'caps': [<matplotlib.lines.Line2D at 0x1c5dc4a5490>,\n",
       "  <matplotlib.lines.Line2D at 0x1c5dc4a5820>],\n",
       " 'boxes': [<matplotlib.lines.Line2D at 0x1c5dc4b29a0>],\n",
       " 'medians': [<matplotlib.lines.Line2D at 0x1c5dc4a5bb0>],\n",
       " 'fliers': [<matplotlib.lines.Line2D at 0x1c5dc4a5f40>],\n",
       " 'means': []}"
      ]
     },
     "execution_count": 23,
     "metadata": {},
     "output_type": "execute_result"
    },
    {
     "data": {
      "image/png": "[encoded data removed]",
      "text/plain": [
       "<Figure size 432x288 with 1 Axes>"
      ]
     },
     "metadata": {
      "needs_background": "light"
     },
     "output_type": "display_data"
    }
   ],
   "source": [
    "plt.boxplot(rfm_df.Frequency)"
   ]
  },
  {
   "cell_type": "code",
   "execution_count": 24,
   "id": "a899179b",
   "metadata": {},
   "outputs": [
    {
     "data": {
      "text/plain": [
       "{'whiskers': [<matplotlib.lines.Line2D at 0x1c5dee0c7c0>,\n",
       "  <matplotlib.lines.Line2D at 0x1c5dee0cb50>],\n",
       " 'caps': [<matplotlib.lines.Line2D at 0x1c5dee0cee0>,\n",
       "  <matplotlib.lines.Line2D at 0x1c5dedf02b0>],\n",
       " 'boxes': [<matplotlib.lines.Line2D at 0x1c5dee0c430>],\n",
       " 'medians': [<matplotlib.lines.Line2D at 0x1c5dedf0640>],\n",
       " 'fliers': [<matplotlib.lines.Line2D at 0x1c5dedf09d0>],\n",
       " 'means': []}"
      ]
     },
     "execution_count": 24,
     "metadata": {},
     "output_type": "execute_result"
    },
    {
     "data": {
      "image/png": "[encoded data removed]",
      "text/plain": [
       "<Figure size 432x288 with 1 Axes>"
      ]
     },
     "metadata": {
      "needs_background": "light"
     },
     "output_type": "display_data"
    }
   ],
   "source": [
    "plt.boxplot(rfm_df.Monetary)"
   ]
  },
  {
   "cell_type": "code",
   "execution_count": 25,
   "id": "70cfb25d",
   "metadata": {},
   "outputs": [],
   "source": [
    "## Fix Skewness and Updating outliers ##\n",
    "\n",
    "\n",
    "rQ1 = np.quantile(rfm_df.Recency,.25)\n",
    "rQ3 = np.quantile(rfm_df.Recency,.75)\n",
    "rIQR = rQ3 - rQ1\n",
    "rUB = rQ3 + 1.5*rIQR\n",
    "rLB = rQ1 - 1.5*rIQR\n",
    "rUB\n",
    "rLB\n",
    "\n",
    "len(rfm_df[rfm_df.Recency>rUB])\n",
    "rfm_df['Recency'] = np.where(rfm_df['Recency'] > rUB, rUB,rfm_df['Recency'])\n",
    "\n",
    "\n",
    "fQ1 = np.quantile(rfm_df.Frequency,.25)\n",
    "fQ3 = np.quantile(rfm_df.Frequency,.75)\n",
    "fIQR = fQ3 - fQ1\n",
    "fUB = fQ3 + 1.5*fIQR\n",
    "fLB = fQ1 - 1.5*fIQR\n",
    "fUB\n",
    "\n",
    "len(rfm_df[rfm_df.Frequency>fUB])\n",
    "#382/4319\n",
    "rfm_df['Frequency'] = np.where(rfm_df['Frequency'] > fUB, fUB,rfm_df['Frequency'])\n",
    "\n",
    "mQ1 = np.quantile(rfm_df.Monetary,.25)\n",
    "mQ3 = np.quantile(rfm_df.Monetary,.75)\n",
    "mIQR = mQ3 - mQ1\n",
    "mUB = mQ3 + 1.5*mIQR\n",
    "mLB = mQ1 - 1.5*mIQR\n",
    "mUB\n",
    "len(rfm_df[rfm_df.Monetary>mLB])\n",
    "#415/4319\n",
    "rfm_df['Monetary'] = np.where(rfm_df['Monetary'] > mUB, mUB,rfm_df['Monetary'])\n"
   ]
  },
  {
   "cell_type": "code",
   "execution_count": 26,
   "id": "0501e976",
   "metadata": {},
   "outputs": [
    {
     "data": {
      "text/plain": [
       "{'whiskers': [<matplotlib.lines.Line2D at 0x1c5d85e2e50>,\n",
       "  <matplotlib.lines.Line2D at 0x1c5d85d6220>],\n",
       " 'caps': [<matplotlib.lines.Line2D at 0x1c5d85d65b0>,\n",
       "  <matplotlib.lines.Line2D at 0x1c5d85d6940>],\n",
       " 'boxes': [<matplotlib.lines.Line2D at 0x1c5d85e2ac0>],\n",
       " 'medians': [<matplotlib.lines.Line2D at 0x1c5d85d6cd0>],\n",
       " 'fliers': [<matplotlib.lines.Line2D at 0x1c5d86080a0>],\n",
       " 'means': []}"
      ]
     },
     "execution_count": 26,
     "metadata": {},
     "output_type": "execute_result"
    },
    {
     "data": {
      "image/png": "[encoded data removed]",
      "text/plain": [
       "<Figure size 432x288 with 1 Axes>"
      ]
     },
     "metadata": {
      "needs_background": "light"
     },
     "output_type": "display_data"
    }
   ],
   "source": [
    "#boxplot after outlier correction\n",
    "plt.boxplot(rfm_df.Monetary)"
   ]
  },
  {
   "cell_type": "code",
   "execution_count": 27,
   "id": "3757e51d",
   "metadata": {},
   "outputs": [
    {
     "data": {
      "text/plain": [
       "{'whiskers': [<matplotlib.lines.Line2D at 0x1c5d7af0460>,\n",
       "  <matplotlib.lines.Line2D at 0x1c5d7af07f0>],\n",
       " 'caps': [<matplotlib.lines.Line2D at 0x1c5d7af0b80>,\n",
       "  <matplotlib.lines.Line2D at 0x1c5d7af0f10>],\n",
       " 'boxes': [<matplotlib.lines.Line2D at 0x1c5d7af00d0>],\n",
       " 'medians': [<matplotlib.lines.Line2D at 0x1c5d7b082e0>],\n",
       " 'fliers': [<matplotlib.lines.Line2D at 0x1c5d7b08670>],\n",
       " 'means': []}"
      ]
     },
     "execution_count": 27,
     "metadata": {},
     "output_type": "execute_result"
    },
    {
     "data": {
      "image/png": "[encoded data removed]",
      "text/plain": [
       "<Figure size 432x288 with 1 Axes>"
      ]
     },
     "metadata": {
      "needs_background": "light"
     },
     "output_type": "display_data"
    }
   ],
   "source": [
    "plt.boxplot(rfm_df.Frequency)"
   ]
  },
  {
   "cell_type": "code",
   "execution_count": 28,
   "id": "a7f79e2a",
   "metadata": {},
   "outputs": [
    {
     "data": {
      "text/plain": [
       "{'whiskers': [<matplotlib.lines.Line2D at 0x1c5e63dfd00>,\n",
       "  <matplotlib.lines.Line2D at 0x1c5e63ba0d0>],\n",
       " 'caps': [<matplotlib.lines.Line2D at 0x1c5e63ba460>,\n",
       "  <matplotlib.lines.Line2D at 0x1c5e63ba7f0>],\n",
       " 'boxes': [<matplotlib.lines.Line2D at 0x1c5e63df970>],\n",
       " 'medians': [<matplotlib.lines.Line2D at 0x1c5e63bab80>],\n",
       " 'fliers': [<matplotlib.lines.Line2D at 0x1c5e63baf10>],\n",
       " 'means': []}"
      ]
     },
     "execution_count": 28,
     "metadata": {},
     "output_type": "execute_result"
    },
    {
     "data": {
      "image/png": "[encoded data removed]",
      "text/plain": [
       "<Figure size 432x288 with 1 Axes>"
      ]
     },
     "metadata": {
      "needs_background": "light"
     },
     "output_type": "display_data"
    }
   ],
   "source": [
    "plt.boxplot(rfm_df.Recency)"
   ]
  },
  {
   "cell_type": "code",
   "execution_count": 29,
   "id": "90249e20",
   "metadata": {},
   "outputs": [
    {
     "data": {
      "text/plain": [
       "{'Recency': {0.25: 18.0, 0.5: 51.0, 0.75: 141.0},\n",
       " 'Frequency': {0.25: 1.0, 0.5: 3.0, 0.75: 5.0},\n",
       " 'Monetary': {0.25: 38585.0, 0.5: 84965.0, 0.75: 206819.0}}"
      ]
     },
     "execution_count": 29,
     "metadata": {},
     "output_type": "execute_result"
    }
   ],
   "source": [
    "#RFM Grouping using statistical approach\n",
    "#Split into four segments using quantiles\n",
    "quantiles = rfm_df.quantile(q=[0.25,0.5,0.75])\n",
    "quantiles = quantiles.to_dict()\n",
    "quantiles"
   ]
  },
  {
   "cell_type": "code",
   "execution_count": 30,
   "id": "fc73c260",
   "metadata": {},
   "outputs": [],
   "source": [
    "#Calculate and Add RFMScore value column showing total sum of RFMGroup values\n",
    "def RScoring(x,p,d):\n",
    "    if x <= d[p][0.25]:\n",
    "        return 1\n",
    "    elif x <= d[p][0.50]:\n",
    "        return 2\n",
    "    elif x <= d[p][0.75]: \n",
    "        return 3\n",
    "    else:\n",
    "        return 4\n",
    "    \n",
    "def FnMScoring(x,p,d):\n",
    "    if x <= d[p][0.25]:\n",
    "        return 4\n",
    "    elif x <= d[p][0.50]:\n",
    "        return 3\n",
    "    elif x <= d[p][0.75]: \n",
    "        return 2\n",
    "    else:\n",
    "        return 1"
   ]
  },
  {
   "cell_type": "code",
   "execution_count": 31,
   "id": "9da45496",
   "metadata": {},
   "outputs": [
    {
     "data": {
      "text/html": [
       "<div>\n",
       "<style scoped>\n",
       "    .dataframe tbody tr th:only-of-type {\n",
       "        vertical-align: middle;\n",
       "    }\n",
       "\n",
       "    .dataframe tbody tr th {\n",
       "        vertical-align: top;\n",
       "    }\n",
       "\n",
       "    .dataframe thead th {\n",
       "        text-align: right;\n",
       "    }\n",
       "</style>\n",
       "<table border=\"1\" class=\"dataframe\">\n",
       "  <thead>\n",
       "    <tr style=\"text-align: right;\">\n",
       "      <th></th>\n",
       "      <th>Recency</th>\n",
       "      <th>Frequency</th>\n",
       "      <th>Monetary</th>\n",
       "      <th>R</th>\n",
       "      <th>F</th>\n",
       "      <th>M</th>\n",
       "      <th>RFMGroup</th>\n",
       "      <th>RFMScore</th>\n",
       "    </tr>\n",
       "    <tr>\n",
       "      <th>CustomerID</th>\n",
       "      <th></th>\n",
       "      <th></th>\n",
       "      <th></th>\n",
       "      <th></th>\n",
       "      <th></th>\n",
       "      <th></th>\n",
       "      <th></th>\n",
       "      <th></th>\n",
       "    </tr>\n",
       "  </thead>\n",
       "  <tbody>\n",
       "    <tr>\n",
       "      <th>2</th>\n",
       "      <td>4.0</td>\n",
       "      <td>7.0</td>\n",
       "      <td>459170.0</td>\n",
       "      <td>1</td>\n",
       "      <td>1</td>\n",
       "      <td>1</td>\n",
       "      <td>111</td>\n",
       "      <td>3</td>\n",
       "    </tr>\n",
       "    <tr>\n",
       "      <th>3</th>\n",
       "      <td>77.0</td>\n",
       "      <td>4.0</td>\n",
       "      <td>257404.0</td>\n",
       "      <td>3</td>\n",
       "      <td>2</td>\n",
       "      <td>1</td>\n",
       "      <td>321</td>\n",
       "      <td>6</td>\n",
       "    </tr>\n",
       "    <tr>\n",
       "      <th>4</th>\n",
       "      <td>19.0</td>\n",
       "      <td>1.0</td>\n",
       "      <td>176613.0</td>\n",
       "      <td>2</td>\n",
       "      <td>4</td>\n",
       "      <td>2</td>\n",
       "      <td>242</td>\n",
       "      <td>8</td>\n",
       "    </tr>\n",
       "    <tr>\n",
       "      <th>5</th>\n",
       "      <td>311.0</td>\n",
       "      <td>1.0</td>\n",
       "      <td>41976.0</td>\n",
       "      <td>4</td>\n",
       "      <td>4</td>\n",
       "      <td>3</td>\n",
       "      <td>443</td>\n",
       "      <td>11</td>\n",
       "    </tr>\n",
       "    <tr>\n",
       "      <th>6</th>\n",
       "      <td>37.0</td>\n",
       "      <td>8.0</td>\n",
       "      <td>151822.0</td>\n",
       "      <td>2</td>\n",
       "      <td>1</td>\n",
       "      <td>2</td>\n",
       "      <td>212</td>\n",
       "      <td>5</td>\n",
       "    </tr>\n",
       "  </tbody>\n",
       "</table>\n",
       "</div>"
      ],
      "text/plain": [
       "            Recency  Frequency  Monetary  R  F  M RFMGroup  RFMScore\n",
       "CustomerID                                                          \n",
       "2               4.0        7.0  459170.0  1  1  1      111         3\n",
       "3              77.0        4.0  257404.0  3  2  1      321         6\n",
       "4              19.0        1.0  176613.0  2  4  2      242         8\n",
       "5             311.0        1.0   41976.0  4  4  3      443        11\n",
       "6              37.0        8.0  151822.0  2  1  2      212         5"
      ]
     },
     "execution_count": 31,
     "metadata": {},
     "output_type": "execute_result"
    }
   ],
   "source": [
    "rfm_df['R'] = rfm_df['Recency'].apply(RScoring, args=('Recency',quantiles,))\n",
    "rfm_df['F'] = rfm_df['Frequency'].apply(FnMScoring, args=('Frequency',quantiles,))\n",
    "rfm_df['M'] = rfm_df['Monetary'].apply(FnMScoring, args=('Monetary',quantiles,))\n",
    "rfm_df['RFMGroup'] = rfm_df.R.map(str) + rfm_df.F.map(str) + rfm_df.M.map(str)\n",
    "rfm_df['RFMScore'] = rfm_df[['R', 'F', 'M']].sum(axis = 1)\n",
    "rfm_df.head()"
   ]
  },
  {
   "cell_type": "code",
   "execution_count": 32,
   "id": "fe7800ff",
   "metadata": {},
   "outputs": [
    {
     "data": {
      "text/html": [
       "<div>\n",
       "<style scoped>\n",
       "    .dataframe tbody tr th:only-of-type {\n",
       "        vertical-align: middle;\n",
       "    }\n",
       "\n",
       "    .dataframe tbody tr th {\n",
       "        vertical-align: top;\n",
       "    }\n",
       "\n",
       "    .dataframe thead th {\n",
       "        text-align: right;\n",
       "    }\n",
       "</style>\n",
       "<table border=\"1\" class=\"dataframe\">\n",
       "  <thead>\n",
       "    <tr style=\"text-align: right;\">\n",
       "      <th></th>\n",
       "      <th>CustomerID</th>\n",
       "      <th>Recency</th>\n",
       "      <th>Frequency</th>\n",
       "      <th>Monetary</th>\n",
       "      <th>R</th>\n",
       "      <th>F</th>\n",
       "      <th>M</th>\n",
       "      <th>RFMGroup</th>\n",
       "      <th>RFMScore</th>\n",
       "      <th>RFM_Loyalty_Level</th>\n",
       "    </tr>\n",
       "  </thead>\n",
       "  <tbody>\n",
       "    <tr>\n",
       "      <th>0</th>\n",
       "      <td>2</td>\n",
       "      <td>4.0</td>\n",
       "      <td>7.0</td>\n",
       "      <td>459170.0</td>\n",
       "      <td>1</td>\n",
       "      <td>1</td>\n",
       "      <td>1</td>\n",
       "      <td>111</td>\n",
       "      <td>3</td>\n",
       "      <td>0</td>\n",
       "    </tr>\n",
       "    <tr>\n",
       "      <th>1</th>\n",
       "      <td>3</td>\n",
       "      <td>77.0</td>\n",
       "      <td>4.0</td>\n",
       "      <td>257404.0</td>\n",
       "      <td>3</td>\n",
       "      <td>2</td>\n",
       "      <td>1</td>\n",
       "      <td>321</td>\n",
       "      <td>6</td>\n",
       "      <td>0</td>\n",
       "    </tr>\n",
       "    <tr>\n",
       "      <th>2</th>\n",
       "      <td>4</td>\n",
       "      <td>19.0</td>\n",
       "      <td>1.0</td>\n",
       "      <td>176613.0</td>\n",
       "      <td>2</td>\n",
       "      <td>4</td>\n",
       "      <td>2</td>\n",
       "      <td>242</td>\n",
       "      <td>8</td>\n",
       "      <td>1</td>\n",
       "    </tr>\n",
       "    <tr>\n",
       "      <th>3</th>\n",
       "      <td>5</td>\n",
       "      <td>311.0</td>\n",
       "      <td>1.0</td>\n",
       "      <td>41976.0</td>\n",
       "      <td>4</td>\n",
       "      <td>4</td>\n",
       "      <td>3</td>\n",
       "      <td>443</td>\n",
       "      <td>11</td>\n",
       "      <td>2</td>\n",
       "    </tr>\n",
       "    <tr>\n",
       "      <th>4</th>\n",
       "      <td>6</td>\n",
       "      <td>37.0</td>\n",
       "      <td>8.0</td>\n",
       "      <td>151822.0</td>\n",
       "      <td>2</td>\n",
       "      <td>1</td>\n",
       "      <td>2</td>\n",
       "      <td>212</td>\n",
       "      <td>5</td>\n",
       "      <td>0</td>\n",
       "    </tr>\n",
       "    <tr>\n",
       "      <th>5</th>\n",
       "      <td>7</td>\n",
       "      <td>208.0</td>\n",
       "      <td>1.0</td>\n",
       "      <td>9410.0</td>\n",
       "      <td>4</td>\n",
       "      <td>4</td>\n",
       "      <td>4</td>\n",
       "      <td>444</td>\n",
       "      <td>12</td>\n",
       "      <td>2</td>\n",
       "    </tr>\n",
       "    <tr>\n",
       "      <th>6</th>\n",
       "      <td>8</td>\n",
       "      <td>233.0</td>\n",
       "      <td>1.0</td>\n",
       "      <td>135550.0</td>\n",
       "      <td>4</td>\n",
       "      <td>4</td>\n",
       "      <td>2</td>\n",
       "      <td>442</td>\n",
       "      <td>10</td>\n",
       "      <td>2</td>\n",
       "    </tr>\n",
       "    <tr>\n",
       "      <th>7</th>\n",
       "      <td>9</td>\n",
       "      <td>215.0</td>\n",
       "      <td>1.0</td>\n",
       "      <td>65832.0</td>\n",
       "      <td>4</td>\n",
       "      <td>4</td>\n",
       "      <td>3</td>\n",
       "      <td>443</td>\n",
       "      <td>11</td>\n",
       "      <td>2</td>\n",
       "    </tr>\n",
       "    <tr>\n",
       "      <th>8</th>\n",
       "      <td>10</td>\n",
       "      <td>25.0</td>\n",
       "      <td>3.0</td>\n",
       "      <td>331601.0</td>\n",
       "      <td>2</td>\n",
       "      <td>3</td>\n",
       "      <td>1</td>\n",
       "      <td>231</td>\n",
       "      <td>6</td>\n",
       "      <td>0</td>\n",
       "    </tr>\n",
       "    <tr>\n",
       "      <th>9</th>\n",
       "      <td>11</td>\n",
       "      <td>34.0</td>\n",
       "      <td>1.0</td>\n",
       "      <td>459170.0</td>\n",
       "      <td>2</td>\n",
       "      <td>4</td>\n",
       "      <td>1</td>\n",
       "      <td>241</td>\n",
       "      <td>7</td>\n",
       "      <td>1</td>\n",
       "    </tr>\n",
       "    <tr>\n",
       "      <th>10</th>\n",
       "      <td>12</td>\n",
       "      <td>2.0</td>\n",
       "      <td>2.0</td>\n",
       "      <td>105674.0</td>\n",
       "      <td>1</td>\n",
       "      <td>3</td>\n",
       "      <td>2</td>\n",
       "      <td>132</td>\n",
       "      <td>6</td>\n",
       "      <td>0</td>\n",
       "    </tr>\n",
       "    <tr>\n",
       "      <th>11</th>\n",
       "      <td>13</td>\n",
       "      <td>9.0</td>\n",
       "      <td>6.0</td>\n",
       "      <td>459170.0</td>\n",
       "      <td>1</td>\n",
       "      <td>1</td>\n",
       "      <td>1</td>\n",
       "      <td>111</td>\n",
       "      <td>3</td>\n",
       "      <td>0</td>\n",
       "    </tr>\n",
       "    <tr>\n",
       "      <th>12</th>\n",
       "      <td>14</td>\n",
       "      <td>53.0</td>\n",
       "      <td>3.0</td>\n",
       "      <td>281630.0</td>\n",
       "      <td>3</td>\n",
       "      <td>3</td>\n",
       "      <td>1</td>\n",
       "      <td>331</td>\n",
       "      <td>7</td>\n",
       "      <td>1</td>\n",
       "    </tr>\n",
       "    <tr>\n",
       "      <th>13</th>\n",
       "      <td>15</td>\n",
       "      <td>288.0</td>\n",
       "      <td>1.0</td>\n",
       "      <td>21630.0</td>\n",
       "      <td>4</td>\n",
       "      <td>4</td>\n",
       "      <td>4</td>\n",
       "      <td>444</td>\n",
       "      <td>12</td>\n",
       "      <td>2</td>\n",
       "    </tr>\n",
       "    <tr>\n",
       "      <th>14</th>\n",
       "      <td>16</td>\n",
       "      <td>4.0</td>\n",
       "      <td>11.0</td>\n",
       "      <td>459170.0</td>\n",
       "      <td>1</td>\n",
       "      <td>1</td>\n",
       "      <td>1</td>\n",
       "      <td>111</td>\n",
       "      <td>3</td>\n",
       "      <td>0</td>\n",
       "    </tr>\n",
       "    <tr>\n",
       "      <th>15</th>\n",
       "      <td>17</td>\n",
       "      <td>110.0</td>\n",
       "      <td>2.0</td>\n",
       "      <td>78378.0</td>\n",
       "      <td>3</td>\n",
       "      <td>3</td>\n",
       "      <td>3</td>\n",
       "      <td>333</td>\n",
       "      <td>9</td>\n",
       "      <td>1</td>\n",
       "    </tr>\n",
       "    <tr>\n",
       "      <th>16</th>\n",
       "      <td>18</td>\n",
       "      <td>8.0</td>\n",
       "      <td>4.0</td>\n",
       "      <td>205212.0</td>\n",
       "      <td>1</td>\n",
       "      <td>2</td>\n",
       "      <td>2</td>\n",
       "      <td>122</td>\n",
       "      <td>5</td>\n",
       "      <td>0</td>\n",
       "    </tr>\n",
       "    <tr>\n",
       "      <th>17</th>\n",
       "      <td>19</td>\n",
       "      <td>292.0</td>\n",
       "      <td>1.0</td>\n",
       "      <td>41055.0</td>\n",
       "      <td>4</td>\n",
       "      <td>4</td>\n",
       "      <td>3</td>\n",
       "      <td>443</td>\n",
       "      <td>11</td>\n",
       "      <td>2</td>\n",
       "    </tr>\n",
       "    <tr>\n",
       "      <th>18</th>\n",
       "      <td>20</td>\n",
       "      <td>6.0</td>\n",
       "      <td>1.0</td>\n",
       "      <td>23537.0</td>\n",
       "      <td>1</td>\n",
       "      <td>4</td>\n",
       "      <td>4</td>\n",
       "      <td>144</td>\n",
       "      <td>9</td>\n",
       "      <td>1</td>\n",
       "    </tr>\n",
       "    <tr>\n",
       "      <th>19</th>\n",
       "      <td>21</td>\n",
       "      <td>52.0</td>\n",
       "      <td>4.0</td>\n",
       "      <td>459170.0</td>\n",
       "      <td>3</td>\n",
       "      <td>2</td>\n",
       "      <td>1</td>\n",
       "      <td>321</td>\n",
       "      <td>6</td>\n",
       "      <td>0</td>\n",
       "    </tr>\n",
       "    <tr>\n",
       "      <th>20</th>\n",
       "      <td>22</td>\n",
       "      <td>60.0</td>\n",
       "      <td>1.0</td>\n",
       "      <td>182448.0</td>\n",
       "      <td>3</td>\n",
       "      <td>4</td>\n",
       "      <td>2</td>\n",
       "      <td>342</td>\n",
       "      <td>9</td>\n",
       "      <td>1</td>\n",
       "    </tr>\n",
       "    <tr>\n",
       "      <th>21</th>\n",
       "      <td>23</td>\n",
       "      <td>72.0</td>\n",
       "      <td>3.0</td>\n",
       "      <td>163883.0</td>\n",
       "      <td>3</td>\n",
       "      <td>3</td>\n",
       "      <td>2</td>\n",
       "      <td>332</td>\n",
       "      <td>8</td>\n",
       "      <td>1</td>\n",
       "    </tr>\n",
       "    <tr>\n",
       "      <th>22</th>\n",
       "      <td>24</td>\n",
       "      <td>312.0</td>\n",
       "      <td>1.0</td>\n",
       "      <td>42424.0</td>\n",
       "      <td>4</td>\n",
       "      <td>4</td>\n",
       "      <td>3</td>\n",
       "      <td>443</td>\n",
       "      <td>11</td>\n",
       "      <td>2</td>\n",
       "    </tr>\n",
       "    <tr>\n",
       "      <th>23</th>\n",
       "      <td>25</td>\n",
       "      <td>26.0</td>\n",
       "      <td>1.0</td>\n",
       "      <td>76012.0</td>\n",
       "      <td>2</td>\n",
       "      <td>4</td>\n",
       "      <td>3</td>\n",
       "      <td>243</td>\n",
       "      <td>9</td>\n",
       "      <td>1</td>\n",
       "    </tr>\n",
       "    <tr>\n",
       "      <th>24</th>\n",
       "      <td>26</td>\n",
       "      <td>4.0</td>\n",
       "      <td>3.0</td>\n",
       "      <td>47361.0</td>\n",
       "      <td>1</td>\n",
       "      <td>3</td>\n",
       "      <td>3</td>\n",
       "      <td>133</td>\n",
       "      <td>7</td>\n",
       "      <td>1</td>\n",
       "    </tr>\n",
       "    <tr>\n",
       "      <th>25</th>\n",
       "      <td>27</td>\n",
       "      <td>316.0</td>\n",
       "      <td>2.0</td>\n",
       "      <td>200342.0</td>\n",
       "      <td>4</td>\n",
       "      <td>3</td>\n",
       "      <td>2</td>\n",
       "      <td>432</td>\n",
       "      <td>9</td>\n",
       "      <td>1</td>\n",
       "    </tr>\n",
       "    <tr>\n",
       "      <th>26</th>\n",
       "      <td>28</td>\n",
       "      <td>130.0</td>\n",
       "      <td>1.0</td>\n",
       "      <td>459170.0</td>\n",
       "      <td>3</td>\n",
       "      <td>4</td>\n",
       "      <td>1</td>\n",
       "      <td>341</td>\n",
       "      <td>8</td>\n",
       "      <td>1</td>\n",
       "    </tr>\n",
       "    <tr>\n",
       "      <th>27</th>\n",
       "      <td>29</td>\n",
       "      <td>83.0</td>\n",
       "      <td>3.0</td>\n",
       "      <td>93618.0</td>\n",
       "      <td>3</td>\n",
       "      <td>3</td>\n",
       "      <td>2</td>\n",
       "      <td>332</td>\n",
       "      <td>8</td>\n",
       "      <td>1</td>\n",
       "    </tr>\n",
       "    <tr>\n",
       "      <th>28</th>\n",
       "      <td>30</td>\n",
       "      <td>22.0</td>\n",
       "      <td>5.0</td>\n",
       "      <td>295952.0</td>\n",
       "      <td>2</td>\n",
       "      <td>2</td>\n",
       "      <td>1</td>\n",
       "      <td>221</td>\n",
       "      <td>5</td>\n",
       "      <td>0</td>\n",
       "    </tr>\n",
       "    <tr>\n",
       "      <th>29</th>\n",
       "      <td>31</td>\n",
       "      <td>10.0</td>\n",
       "      <td>4.0</td>\n",
       "      <td>178765.0</td>\n",
       "      <td>1</td>\n",
       "      <td>2</td>\n",
       "      <td>2</td>\n",
       "      <td>122</td>\n",
       "      <td>5</td>\n",
       "      <td>0</td>\n",
       "    </tr>\n",
       "    <tr>\n",
       "      <th>30</th>\n",
       "      <td>32</td>\n",
       "      <td>190.0</td>\n",
       "      <td>6.0</td>\n",
       "      <td>235678.0</td>\n",
       "      <td>4</td>\n",
       "      <td>1</td>\n",
       "      <td>1</td>\n",
       "      <td>411</td>\n",
       "      <td>6</td>\n",
       "      <td>0</td>\n",
       "    </tr>\n",
       "    <tr>\n",
       "      <th>31</th>\n",
       "      <td>33</td>\n",
       "      <td>29.0</td>\n",
       "      <td>3.0</td>\n",
       "      <td>45460.0</td>\n",
       "      <td>2</td>\n",
       "      <td>3</td>\n",
       "      <td>3</td>\n",
       "      <td>233</td>\n",
       "      <td>8</td>\n",
       "      <td>1</td>\n",
       "    </tr>\n",
       "    <tr>\n",
       "      <th>32</th>\n",
       "      <td>34</td>\n",
       "      <td>325.5</td>\n",
       "      <td>2.0</td>\n",
       "      <td>57670.0</td>\n",
       "      <td>4</td>\n",
       "      <td>3</td>\n",
       "      <td>3</td>\n",
       "      <td>433</td>\n",
       "      <td>10</td>\n",
       "      <td>2</td>\n",
       "    </tr>\n",
       "    <tr>\n",
       "      <th>33</th>\n",
       "      <td>35</td>\n",
       "      <td>16.0</td>\n",
       "      <td>6.0</td>\n",
       "      <td>356353.0</td>\n",
       "      <td>1</td>\n",
       "      <td>1</td>\n",
       "      <td>1</td>\n",
       "      <td>111</td>\n",
       "      <td>3</td>\n",
       "      <td>0</td>\n",
       "    </tr>\n",
       "    <tr>\n",
       "      <th>34</th>\n",
       "      <td>36</td>\n",
       "      <td>80.0</td>\n",
       "      <td>1.0</td>\n",
       "      <td>68598.0</td>\n",
       "      <td>3</td>\n",
       "      <td>4</td>\n",
       "      <td>3</td>\n",
       "      <td>343</td>\n",
       "      <td>10</td>\n",
       "      <td>2</td>\n",
       "    </tr>\n",
       "    <tr>\n",
       "      <th>35</th>\n",
       "      <td>37</td>\n",
       "      <td>22.0</td>\n",
       "      <td>1.0</td>\n",
       "      <td>60518.0</td>\n",
       "      <td>2</td>\n",
       "      <td>4</td>\n",
       "      <td>3</td>\n",
       "      <td>243</td>\n",
       "      <td>9</td>\n",
       "      <td>1</td>\n",
       "    </tr>\n",
       "    <tr>\n",
       "      <th>36</th>\n",
       "      <td>38</td>\n",
       "      <td>73.0</td>\n",
       "      <td>4.0</td>\n",
       "      <td>201327.0</td>\n",
       "      <td>3</td>\n",
       "      <td>2</td>\n",
       "      <td>2</td>\n",
       "      <td>322</td>\n",
       "      <td>7</td>\n",
       "      <td>1</td>\n",
       "    </tr>\n",
       "    <tr>\n",
       "      <th>37</th>\n",
       "      <td>39</td>\n",
       "      <td>66.0</td>\n",
       "      <td>2.0</td>\n",
       "      <td>148768.0</td>\n",
       "      <td>3</td>\n",
       "      <td>3</td>\n",
       "      <td>2</td>\n",
       "      <td>332</td>\n",
       "      <td>8</td>\n",
       "      <td>1</td>\n",
       "    </tr>\n",
       "    <tr>\n",
       "      <th>38</th>\n",
       "      <td>40</td>\n",
       "      <td>20.0</td>\n",
       "      <td>11.0</td>\n",
       "      <td>384183.0</td>\n",
       "      <td>2</td>\n",
       "      <td>1</td>\n",
       "      <td>1</td>\n",
       "      <td>211</td>\n",
       "      <td>4</td>\n",
       "      <td>0</td>\n",
       "    </tr>\n",
       "    <tr>\n",
       "      <th>39</th>\n",
       "      <td>41</td>\n",
       "      <td>36.0</td>\n",
       "      <td>2.0</td>\n",
       "      <td>287355.0</td>\n",
       "      <td>2</td>\n",
       "      <td>3</td>\n",
       "      <td>1</td>\n",
       "      <td>231</td>\n",
       "      <td>6</td>\n",
       "      <td>0</td>\n",
       "    </tr>\n",
       "    <tr>\n",
       "      <th>40</th>\n",
       "      <td>42</td>\n",
       "      <td>46.0</td>\n",
       "      <td>1.0</td>\n",
       "      <td>215492.0</td>\n",
       "      <td>2</td>\n",
       "      <td>4</td>\n",
       "      <td>1</td>\n",
       "      <td>241</td>\n",
       "      <td>7</td>\n",
       "      <td>1</td>\n",
       "    </tr>\n",
       "    <tr>\n",
       "      <th>41</th>\n",
       "      <td>43</td>\n",
       "      <td>120.0</td>\n",
       "      <td>4.0</td>\n",
       "      <td>158398.0</td>\n",
       "      <td>3</td>\n",
       "      <td>2</td>\n",
       "      <td>2</td>\n",
       "      <td>322</td>\n",
       "      <td>7</td>\n",
       "      <td>1</td>\n",
       "    </tr>\n",
       "    <tr>\n",
       "      <th>42</th>\n",
       "      <td>44</td>\n",
       "      <td>308.0</td>\n",
       "      <td>1.0</td>\n",
       "      <td>7278.0</td>\n",
       "      <td>4</td>\n",
       "      <td>4</td>\n",
       "      <td>4</td>\n",
       "      <td>444</td>\n",
       "      <td>12</td>\n",
       "      <td>2</td>\n",
       "    </tr>\n",
       "    <tr>\n",
       "      <th>43</th>\n",
       "      <td>45</td>\n",
       "      <td>324.0</td>\n",
       "      <td>1.0</td>\n",
       "      <td>25584.0</td>\n",
       "      <td>4</td>\n",
       "      <td>4</td>\n",
       "      <td>4</td>\n",
       "      <td>444</td>\n",
       "      <td>12</td>\n",
       "      <td>2</td>\n",
       "    </tr>\n",
       "    <tr>\n",
       "      <th>44</th>\n",
       "      <td>46</td>\n",
       "      <td>52.0</td>\n",
       "      <td>1.0</td>\n",
       "      <td>42252.0</td>\n",
       "      <td>3</td>\n",
       "      <td>4</td>\n",
       "      <td>3</td>\n",
       "      <td>343</td>\n",
       "      <td>10</td>\n",
       "      <td>2</td>\n",
       "    </tr>\n",
       "    <tr>\n",
       "      <th>45</th>\n",
       "      <td>47</td>\n",
       "      <td>149.0</td>\n",
       "      <td>1.0</td>\n",
       "      <td>178467.0</td>\n",
       "      <td>4</td>\n",
       "      <td>4</td>\n",
       "      <td>2</td>\n",
       "      <td>442</td>\n",
       "      <td>10</td>\n",
       "      <td>2</td>\n",
       "    </tr>\n",
       "    <tr>\n",
       "      <th>46</th>\n",
       "      <td>48</td>\n",
       "      <td>23.0</td>\n",
       "      <td>3.0</td>\n",
       "      <td>415792.0</td>\n",
       "      <td>2</td>\n",
       "      <td>3</td>\n",
       "      <td>1</td>\n",
       "      <td>231</td>\n",
       "      <td>6</td>\n",
       "      <td>0</td>\n",
       "    </tr>\n",
       "    <tr>\n",
       "      <th>47</th>\n",
       "      <td>49</td>\n",
       "      <td>50.0</td>\n",
       "      <td>5.0</td>\n",
       "      <td>222570.0</td>\n",
       "      <td>2</td>\n",
       "      <td>2</td>\n",
       "      <td>1</td>\n",
       "      <td>221</td>\n",
       "      <td>5</td>\n",
       "      <td>0</td>\n",
       "    </tr>\n",
       "    <tr>\n",
       "      <th>48</th>\n",
       "      <td>50</td>\n",
       "      <td>33.0</td>\n",
       "      <td>8.0</td>\n",
       "      <td>329075.0</td>\n",
       "      <td>2</td>\n",
       "      <td>1</td>\n",
       "      <td>1</td>\n",
       "      <td>211</td>\n",
       "      <td>4</td>\n",
       "      <td>0</td>\n",
       "    </tr>\n",
       "    <tr>\n",
       "      <th>49</th>\n",
       "      <td>51</td>\n",
       "      <td>79.0</td>\n",
       "      <td>7.0</td>\n",
       "      <td>459170.0</td>\n",
       "      <td>3</td>\n",
       "      <td>1</td>\n",
       "      <td>1</td>\n",
       "      <td>311</td>\n",
       "      <td>5</td>\n",
       "      <td>0</td>\n",
       "    </tr>\n",
       "  </tbody>\n",
       "</table>\n",
       "</div>"
      ],
      "text/plain": [
       "    CustomerID  Recency  Frequency  Monetary  R  F  M RFMGroup  RFMScore  \\\n",
       "0            2      4.0        7.0  459170.0  1  1  1      111         3   \n",
       "1            3     77.0        4.0  257404.0  3  2  1      321         6   \n",
       "2            4     19.0        1.0  176613.0  2  4  2      242         8   \n",
       "3            5    311.0        1.0   41976.0  4  4  3      443        11   \n",
       "4            6     37.0        8.0  151822.0  2  1  2      212         5   \n",
       "5            7    208.0        1.0    9410.0  4  4  4      444        12   \n",
       "6            8    233.0        1.0  135550.0  4  4  2      442        10   \n",
       "7            9    215.0        1.0   65832.0  4  4  3      443        11   \n",
       "8           10     25.0        3.0  331601.0  2  3  1      231         6   \n",
       "9           11     34.0        1.0  459170.0  2  4  1      241         7   \n",
       "10          12      2.0        2.0  105674.0  1  3  2      132         6   \n",
       "11          13      9.0        6.0  459170.0  1  1  1      111         3   \n",
       "12          14     53.0        3.0  281630.0  3  3  1      331         7   \n",
       "13          15    288.0        1.0   21630.0  4  4  4      444        12   \n",
       "14          16      4.0       11.0  459170.0  1  1  1      111         3   \n",
       "15          17    110.0        2.0   78378.0  3  3  3      333         9   \n",
       "16          18      8.0        4.0  205212.0  1  2  2      122         5   \n",
       "17          19    292.0        1.0   41055.0  4  4  3      443        11   \n",
       "18          20      6.0        1.0   23537.0  1  4  4      144         9   \n",
       "19          21     52.0        4.0  459170.0  3  2  1      321         6   \n",
       "20          22     60.0        1.0  182448.0  3  4  2      342         9   \n",
       "21          23     72.0        3.0  163883.0  3  3  2      332         8   \n",
       "22          24    312.0        1.0   42424.0  4  4  3      443        11   \n",
       "23          25     26.0        1.0   76012.0  2  4  3      243         9   \n",
       "24          26      4.0        3.0   47361.0  1  3  3      133         7   \n",
       "25          27    316.0        2.0  200342.0  4  3  2      432         9   \n",
       "26          28    130.0        1.0  459170.0  3  4  1      341         8   \n",
       "27          29     83.0        3.0   93618.0  3  3  2      332         8   \n",
       "28          30     22.0        5.0  295952.0  2  2  1      221         5   \n",
       "29          31     10.0        4.0  178765.0  1  2  2      122         5   \n",
       "30          32    190.0        6.0  235678.0  4  1  1      411         6   \n",
       "31          33     29.0        3.0   45460.0  2  3  3      233         8   \n",
       "32          34    325.5        2.0   57670.0  4  3  3      433        10   \n",
       "33          35     16.0        6.0  356353.0  1  1  1      111         3   \n",
       "34          36     80.0        1.0   68598.0  3  4  3      343        10   \n",
       "35          37     22.0        1.0   60518.0  2  4  3      243         9   \n",
       "36          38     73.0        4.0  201327.0  3  2  2      322         7   \n",
       "37          39     66.0        2.0  148768.0  3  3  2      332         8   \n",
       "38          40     20.0       11.0  384183.0  2  1  1      211         4   \n",
       "39          41     36.0        2.0  287355.0  2  3  1      231         6   \n",
       "40          42     46.0        1.0  215492.0  2  4  1      241         7   \n",
       "41          43    120.0        4.0  158398.0  3  2  2      322         7   \n",
       "42          44    308.0        1.0    7278.0  4  4  4      444        12   \n",
       "43          45    324.0        1.0   25584.0  4  4  4      444        12   \n",
       "44          46     52.0        1.0   42252.0  3  4  3      343        10   \n",
       "45          47    149.0        1.0  178467.0  4  4  2      442        10   \n",
       "46          48     23.0        3.0  415792.0  2  3  1      231         6   \n",
       "47          49     50.0        5.0  222570.0  2  2  1      221         5   \n",
       "48          50     33.0        8.0  329075.0  2  1  1      211         4   \n",
       "49          51     79.0        7.0  459170.0  3  1  1      311         5   \n",
       "\n",
       "   RFM_Loyalty_Level  \n",
       "0                  0  \n",
       "1                  0  \n",
       "2                  1  \n",
       "3                  2  \n",
       "4                  0  \n",
       "5                  2  \n",
       "6                  2  \n",
       "7                  2  \n",
       "8                  0  \n",
       "9                  1  \n",
       "10                 0  \n",
       "11                 0  \n",
       "12                 1  \n",
       "13                 2  \n",
       "14                 0  \n",
       "15                 1  \n",
       "16                 0  \n",
       "17                 2  \n",
       "18                 1  \n",
       "19                 0  \n",
       "20                 1  \n",
       "21                 1  \n",
       "22                 2  \n",
       "23                 1  \n",
       "24                 1  \n",
       "25                 1  \n",
       "26                 1  \n",
       "27                 1  \n",
       "28                 0  \n",
       "29                 0  \n",
       "30                 0  \n",
       "31                 1  \n",
       "32                 2  \n",
       "33                 0  \n",
       "34                 2  \n",
       "35                 1  \n",
       "36                 1  \n",
       "37                 1  \n",
       "38                 0  \n",
       "39                 0  \n",
       "40                 1  \n",
       "41                 1  \n",
       "42                 2  \n",
       "43                 2  \n",
       "44                 2  \n",
       "45                 2  \n",
       "46                 0  \n",
       "47                 0  \n",
       "48                 0  \n",
       "49                 0  "
      ]
     },
     "execution_count": 32,
     "metadata": {},
     "output_type": "execute_result"
    }
   ],
   "source": [
    "## Assigning Loyalty level to Scores\n",
    "Loyalty_Level = [0, 1, 2]\n",
    "Score_cuts = pd.qcut(rfm_df.RFMScore, q = 3, labels = Loyalty_Level)\n",
    "rfm_df['RFM_Loyalty_Level'] = Score_cuts.values\n",
    "rfm_df.reset_index().head(50)"
   ]
  },
  {
   "cell_type": "code",
   "execution_count": 33,
   "id": "59b2db3d",
   "metadata": {},
   "outputs": [],
   "source": [
    "# 3d plot\n",
    "get_ipython().run_line_magic('matplotlib', 'qt')\n",
    "fig = plt.figure(figsize=(6,6))\n",
    "ax = Axes3D(fig, auto_add_to_figure=False)\n",
    "fig.add_axes(ax)\n",
    "# get colormap from seaborn\n",
    "cmap = ListedColormap(sns.color_palette(\"hls\", 3).as_hex())\n",
    "# plot\n",
    "sc = ax.scatter(rfm_df.Recency, rfm_df.Frequency, rfm_df.Monetary, s=40, c=rfm_df.RFM_Loyalty_Level, marker='o', cmap=cmap, alpha=1)\n",
    "ax.set_xlabel('Recency')\n",
    "ax.set_ylabel('Frequency')\n",
    "ax.set_zlabel('Monetary')\n",
    "# legend\n",
    "plt.legend(*sc.legend_elements(), bbox_to_anchor=(1.05, 1), loc=2)\n",
    "# save\n",
    "plt.savefig(\"rfm_3dplot1\", bbox_inches='tight')\n",
    "#plt.show()\n",
    "get_ipython().run_line_magic('matplotlib', 'inline')"
   ]
  },
  {
   "cell_type": "code",
   "execution_count": 34,
   "id": "6e758656",
   "metadata": {},
   "outputs": [
    {
     "data": {
      "text/html": [
       "<div>\n",
       "<style scoped>\n",
       "    .dataframe tbody tr th:only-of-type {\n",
       "        vertical-align: middle;\n",
       "    }\n",
       "\n",
       "    .dataframe tbody tr th {\n",
       "        vertical-align: top;\n",
       "    }\n",
       "\n",
       "    .dataframe thead th {\n",
       "        text-align: right;\n",
       "    }\n",
       "</style>\n",
       "<table border=\"1\" class=\"dataframe\">\n",
       "  <thead>\n",
       "    <tr style=\"text-align: right;\">\n",
       "      <th></th>\n",
       "      <th>Recency</th>\n",
       "      <th>Frequency</th>\n",
       "      <th>Monetary</th>\n",
       "      <th>R</th>\n",
       "      <th>F</th>\n",
       "      <th>M</th>\n",
       "      <th>RFMGroup</th>\n",
       "      <th>RFMScore</th>\n",
       "      <th>RFM_Loyalty_Level</th>\n",
       "    </tr>\n",
       "    <tr>\n",
       "      <th>CustomerID</th>\n",
       "      <th></th>\n",
       "      <th></th>\n",
       "      <th></th>\n",
       "      <th></th>\n",
       "      <th></th>\n",
       "      <th></th>\n",
       "      <th></th>\n",
       "      <th></th>\n",
       "      <th></th>\n",
       "    </tr>\n",
       "  </thead>\n",
       "  <tbody>\n",
       "    <tr>\n",
       "      <th>2</th>\n",
       "      <td>4.0</td>\n",
       "      <td>7.0</td>\n",
       "      <td>459170.0</td>\n",
       "      <td>1</td>\n",
       "      <td>1</td>\n",
       "      <td>1</td>\n",
       "      <td>111</td>\n",
       "      <td>3</td>\n",
       "      <td>Platinum</td>\n",
       "    </tr>\n",
       "    <tr>\n",
       "      <th>3</th>\n",
       "      <td>77.0</td>\n",
       "      <td>4.0</td>\n",
       "      <td>257404.0</td>\n",
       "      <td>3</td>\n",
       "      <td>2</td>\n",
       "      <td>1</td>\n",
       "      <td>321</td>\n",
       "      <td>6</td>\n",
       "      <td>Platinum</td>\n",
       "    </tr>\n",
       "    <tr>\n",
       "      <th>4</th>\n",
       "      <td>19.0</td>\n",
       "      <td>1.0</td>\n",
       "      <td>176613.0</td>\n",
       "      <td>2</td>\n",
       "      <td>4</td>\n",
       "      <td>2</td>\n",
       "      <td>242</td>\n",
       "      <td>8</td>\n",
       "      <td>Gold</td>\n",
       "    </tr>\n",
       "    <tr>\n",
       "      <th>5</th>\n",
       "      <td>311.0</td>\n",
       "      <td>1.0</td>\n",
       "      <td>41976.0</td>\n",
       "      <td>4</td>\n",
       "      <td>4</td>\n",
       "      <td>3</td>\n",
       "      <td>443</td>\n",
       "      <td>11</td>\n",
       "      <td>Silver</td>\n",
       "    </tr>\n",
       "    <tr>\n",
       "      <th>6</th>\n",
       "      <td>37.0</td>\n",
       "      <td>8.0</td>\n",
       "      <td>151822.0</td>\n",
       "      <td>2</td>\n",
       "      <td>1</td>\n",
       "      <td>2</td>\n",
       "      <td>212</td>\n",
       "      <td>5</td>\n",
       "      <td>Platinum</td>\n",
       "    </tr>\n",
       "    <tr>\n",
       "      <th>7</th>\n",
       "      <td>208.0</td>\n",
       "      <td>1.0</td>\n",
       "      <td>9410.0</td>\n",
       "      <td>4</td>\n",
       "      <td>4</td>\n",
       "      <td>4</td>\n",
       "      <td>444</td>\n",
       "      <td>12</td>\n",
       "      <td>Silver</td>\n",
       "    </tr>\n",
       "    <tr>\n",
       "      <th>8</th>\n",
       "      <td>233.0</td>\n",
       "      <td>1.0</td>\n",
       "      <td>135550.0</td>\n",
       "      <td>4</td>\n",
       "      <td>4</td>\n",
       "      <td>2</td>\n",
       "      <td>442</td>\n",
       "      <td>10</td>\n",
       "      <td>Silver</td>\n",
       "    </tr>\n",
       "    <tr>\n",
       "      <th>9</th>\n",
       "      <td>215.0</td>\n",
       "      <td>1.0</td>\n",
       "      <td>65832.0</td>\n",
       "      <td>4</td>\n",
       "      <td>4</td>\n",
       "      <td>3</td>\n",
       "      <td>443</td>\n",
       "      <td>11</td>\n",
       "      <td>Silver</td>\n",
       "    </tr>\n",
       "    <tr>\n",
       "      <th>10</th>\n",
       "      <td>25.0</td>\n",
       "      <td>3.0</td>\n",
       "      <td>331601.0</td>\n",
       "      <td>2</td>\n",
       "      <td>3</td>\n",
       "      <td>1</td>\n",
       "      <td>231</td>\n",
       "      <td>6</td>\n",
       "      <td>Platinum</td>\n",
       "    </tr>\n",
       "    <tr>\n",
       "      <th>11</th>\n",
       "      <td>34.0</td>\n",
       "      <td>1.0</td>\n",
       "      <td>459170.0</td>\n",
       "      <td>2</td>\n",
       "      <td>4</td>\n",
       "      <td>1</td>\n",
       "      <td>241</td>\n",
       "      <td>7</td>\n",
       "      <td>Gold</td>\n",
       "    </tr>\n",
       "    <tr>\n",
       "      <th>12</th>\n",
       "      <td>2.0</td>\n",
       "      <td>2.0</td>\n",
       "      <td>105674.0</td>\n",
       "      <td>1</td>\n",
       "      <td>3</td>\n",
       "      <td>2</td>\n",
       "      <td>132</td>\n",
       "      <td>6</td>\n",
       "      <td>Platinum</td>\n",
       "    </tr>\n",
       "    <tr>\n",
       "      <th>13</th>\n",
       "      <td>9.0</td>\n",
       "      <td>6.0</td>\n",
       "      <td>459170.0</td>\n",
       "      <td>1</td>\n",
       "      <td>1</td>\n",
       "      <td>1</td>\n",
       "      <td>111</td>\n",
       "      <td>3</td>\n",
       "      <td>Platinum</td>\n",
       "    </tr>\n",
       "    <tr>\n",
       "      <th>14</th>\n",
       "      <td>53.0</td>\n",
       "      <td>3.0</td>\n",
       "      <td>281630.0</td>\n",
       "      <td>3</td>\n",
       "      <td>3</td>\n",
       "      <td>1</td>\n",
       "      <td>331</td>\n",
       "      <td>7</td>\n",
       "      <td>Gold</td>\n",
       "    </tr>\n",
       "    <tr>\n",
       "      <th>15</th>\n",
       "      <td>288.0</td>\n",
       "      <td>1.0</td>\n",
       "      <td>21630.0</td>\n",
       "      <td>4</td>\n",
       "      <td>4</td>\n",
       "      <td>4</td>\n",
       "      <td>444</td>\n",
       "      <td>12</td>\n",
       "      <td>Silver</td>\n",
       "    </tr>\n",
       "    <tr>\n",
       "      <th>16</th>\n",
       "      <td>4.0</td>\n",
       "      <td>11.0</td>\n",
       "      <td>459170.0</td>\n",
       "      <td>1</td>\n",
       "      <td>1</td>\n",
       "      <td>1</td>\n",
       "      <td>111</td>\n",
       "      <td>3</td>\n",
       "      <td>Platinum</td>\n",
       "    </tr>\n",
       "    <tr>\n",
       "      <th>17</th>\n",
       "      <td>110.0</td>\n",
       "      <td>2.0</td>\n",
       "      <td>78378.0</td>\n",
       "      <td>3</td>\n",
       "      <td>3</td>\n",
       "      <td>3</td>\n",
       "      <td>333</td>\n",
       "      <td>9</td>\n",
       "      <td>Gold</td>\n",
       "    </tr>\n",
       "    <tr>\n",
       "      <th>18</th>\n",
       "      <td>8.0</td>\n",
       "      <td>4.0</td>\n",
       "      <td>205212.0</td>\n",
       "      <td>1</td>\n",
       "      <td>2</td>\n",
       "      <td>2</td>\n",
       "      <td>122</td>\n",
       "      <td>5</td>\n",
       "      <td>Platinum</td>\n",
       "    </tr>\n",
       "    <tr>\n",
       "      <th>19</th>\n",
       "      <td>292.0</td>\n",
       "      <td>1.0</td>\n",
       "      <td>41055.0</td>\n",
       "      <td>4</td>\n",
       "      <td>4</td>\n",
       "      <td>3</td>\n",
       "      <td>443</td>\n",
       "      <td>11</td>\n",
       "      <td>Silver</td>\n",
       "    </tr>\n",
       "    <tr>\n",
       "      <th>20</th>\n",
       "      <td>6.0</td>\n",
       "      <td>1.0</td>\n",
       "      <td>23537.0</td>\n",
       "      <td>1</td>\n",
       "      <td>4</td>\n",
       "      <td>4</td>\n",
       "      <td>144</td>\n",
       "      <td>9</td>\n",
       "      <td>Gold</td>\n",
       "    </tr>\n",
       "    <tr>\n",
       "      <th>21</th>\n",
       "      <td>52.0</td>\n",
       "      <td>4.0</td>\n",
       "      <td>459170.0</td>\n",
       "      <td>3</td>\n",
       "      <td>2</td>\n",
       "      <td>1</td>\n",
       "      <td>321</td>\n",
       "      <td>6</td>\n",
       "      <td>Platinum</td>\n",
       "    </tr>\n",
       "    <tr>\n",
       "      <th>22</th>\n",
       "      <td>60.0</td>\n",
       "      <td>1.0</td>\n",
       "      <td>182448.0</td>\n",
       "      <td>3</td>\n",
       "      <td>4</td>\n",
       "      <td>2</td>\n",
       "      <td>342</td>\n",
       "      <td>9</td>\n",
       "      <td>Gold</td>\n",
       "    </tr>\n",
       "    <tr>\n",
       "      <th>23</th>\n",
       "      <td>72.0</td>\n",
       "      <td>3.0</td>\n",
       "      <td>163883.0</td>\n",
       "      <td>3</td>\n",
       "      <td>3</td>\n",
       "      <td>2</td>\n",
       "      <td>332</td>\n",
       "      <td>8</td>\n",
       "      <td>Gold</td>\n",
       "    </tr>\n",
       "    <tr>\n",
       "      <th>24</th>\n",
       "      <td>312.0</td>\n",
       "      <td>1.0</td>\n",
       "      <td>42424.0</td>\n",
       "      <td>4</td>\n",
       "      <td>4</td>\n",
       "      <td>3</td>\n",
       "      <td>443</td>\n",
       "      <td>11</td>\n",
       "      <td>Silver</td>\n",
       "    </tr>\n",
       "    <tr>\n",
       "      <th>25</th>\n",
       "      <td>26.0</td>\n",
       "      <td>1.0</td>\n",
       "      <td>76012.0</td>\n",
       "      <td>2</td>\n",
       "      <td>4</td>\n",
       "      <td>3</td>\n",
       "      <td>243</td>\n",
       "      <td>9</td>\n",
       "      <td>Gold</td>\n",
       "    </tr>\n",
       "    <tr>\n",
       "      <th>26</th>\n",
       "      <td>4.0</td>\n",
       "      <td>3.0</td>\n",
       "      <td>47361.0</td>\n",
       "      <td>1</td>\n",
       "      <td>3</td>\n",
       "      <td>3</td>\n",
       "      <td>133</td>\n",
       "      <td>7</td>\n",
       "      <td>Gold</td>\n",
       "    </tr>\n",
       "    <tr>\n",
       "      <th>27</th>\n",
       "      <td>316.0</td>\n",
       "      <td>2.0</td>\n",
       "      <td>200342.0</td>\n",
       "      <td>4</td>\n",
       "      <td>3</td>\n",
       "      <td>2</td>\n",
       "      <td>432</td>\n",
       "      <td>9</td>\n",
       "      <td>Gold</td>\n",
       "    </tr>\n",
       "    <tr>\n",
       "      <th>28</th>\n",
       "      <td>130.0</td>\n",
       "      <td>1.0</td>\n",
       "      <td>459170.0</td>\n",
       "      <td>3</td>\n",
       "      <td>4</td>\n",
       "      <td>1</td>\n",
       "      <td>341</td>\n",
       "      <td>8</td>\n",
       "      <td>Gold</td>\n",
       "    </tr>\n",
       "    <tr>\n",
       "      <th>29</th>\n",
       "      <td>83.0</td>\n",
       "      <td>3.0</td>\n",
       "      <td>93618.0</td>\n",
       "      <td>3</td>\n",
       "      <td>3</td>\n",
       "      <td>2</td>\n",
       "      <td>332</td>\n",
       "      <td>8</td>\n",
       "      <td>Gold</td>\n",
       "    </tr>\n",
       "    <tr>\n",
       "      <th>30</th>\n",
       "      <td>22.0</td>\n",
       "      <td>5.0</td>\n",
       "      <td>295952.0</td>\n",
       "      <td>2</td>\n",
       "      <td>2</td>\n",
       "      <td>1</td>\n",
       "      <td>221</td>\n",
       "      <td>5</td>\n",
       "      <td>Platinum</td>\n",
       "    </tr>\n",
       "    <tr>\n",
       "      <th>31</th>\n",
       "      <td>10.0</td>\n",
       "      <td>4.0</td>\n",
       "      <td>178765.0</td>\n",
       "      <td>1</td>\n",
       "      <td>2</td>\n",
       "      <td>2</td>\n",
       "      <td>122</td>\n",
       "      <td>5</td>\n",
       "      <td>Platinum</td>\n",
       "    </tr>\n",
       "    <tr>\n",
       "      <th>32</th>\n",
       "      <td>190.0</td>\n",
       "      <td>6.0</td>\n",
       "      <td>235678.0</td>\n",
       "      <td>4</td>\n",
       "      <td>1</td>\n",
       "      <td>1</td>\n",
       "      <td>411</td>\n",
       "      <td>6</td>\n",
       "      <td>Platinum</td>\n",
       "    </tr>\n",
       "    <tr>\n",
       "      <th>33</th>\n",
       "      <td>29.0</td>\n",
       "      <td>3.0</td>\n",
       "      <td>45460.0</td>\n",
       "      <td>2</td>\n",
       "      <td>3</td>\n",
       "      <td>3</td>\n",
       "      <td>233</td>\n",
       "      <td>8</td>\n",
       "      <td>Gold</td>\n",
       "    </tr>\n",
       "    <tr>\n",
       "      <th>34</th>\n",
       "      <td>325.5</td>\n",
       "      <td>2.0</td>\n",
       "      <td>57670.0</td>\n",
       "      <td>4</td>\n",
       "      <td>3</td>\n",
       "      <td>3</td>\n",
       "      <td>433</td>\n",
       "      <td>10</td>\n",
       "      <td>Silver</td>\n",
       "    </tr>\n",
       "    <tr>\n",
       "      <th>35</th>\n",
       "      <td>16.0</td>\n",
       "      <td>6.0</td>\n",
       "      <td>356353.0</td>\n",
       "      <td>1</td>\n",
       "      <td>1</td>\n",
       "      <td>1</td>\n",
       "      <td>111</td>\n",
       "      <td>3</td>\n",
       "      <td>Platinum</td>\n",
       "    </tr>\n",
       "    <tr>\n",
       "      <th>36</th>\n",
       "      <td>80.0</td>\n",
       "      <td>1.0</td>\n",
       "      <td>68598.0</td>\n",
       "      <td>3</td>\n",
       "      <td>4</td>\n",
       "      <td>3</td>\n",
       "      <td>343</td>\n",
       "      <td>10</td>\n",
       "      <td>Silver</td>\n",
       "    </tr>\n",
       "    <tr>\n",
       "      <th>37</th>\n",
       "      <td>22.0</td>\n",
       "      <td>1.0</td>\n",
       "      <td>60518.0</td>\n",
       "      <td>2</td>\n",
       "      <td>4</td>\n",
       "      <td>3</td>\n",
       "      <td>243</td>\n",
       "      <td>9</td>\n",
       "      <td>Gold</td>\n",
       "    </tr>\n",
       "    <tr>\n",
       "      <th>38</th>\n",
       "      <td>73.0</td>\n",
       "      <td>4.0</td>\n",
       "      <td>201327.0</td>\n",
       "      <td>3</td>\n",
       "      <td>2</td>\n",
       "      <td>2</td>\n",
       "      <td>322</td>\n",
       "      <td>7</td>\n",
       "      <td>Gold</td>\n",
       "    </tr>\n",
       "    <tr>\n",
       "      <th>39</th>\n",
       "      <td>66.0</td>\n",
       "      <td>2.0</td>\n",
       "      <td>148768.0</td>\n",
       "      <td>3</td>\n",
       "      <td>3</td>\n",
       "      <td>2</td>\n",
       "      <td>332</td>\n",
       "      <td>8</td>\n",
       "      <td>Gold</td>\n",
       "    </tr>\n",
       "    <tr>\n",
       "      <th>40</th>\n",
       "      <td>20.0</td>\n",
       "      <td>11.0</td>\n",
       "      <td>384183.0</td>\n",
       "      <td>2</td>\n",
       "      <td>1</td>\n",
       "      <td>1</td>\n",
       "      <td>211</td>\n",
       "      <td>4</td>\n",
       "      <td>Platinum</td>\n",
       "    </tr>\n",
       "    <tr>\n",
       "      <th>41</th>\n",
       "      <td>36.0</td>\n",
       "      <td>2.0</td>\n",
       "      <td>287355.0</td>\n",
       "      <td>2</td>\n",
       "      <td>3</td>\n",
       "      <td>1</td>\n",
       "      <td>231</td>\n",
       "      <td>6</td>\n",
       "      <td>Platinum</td>\n",
       "    </tr>\n",
       "    <tr>\n",
       "      <th>42</th>\n",
       "      <td>46.0</td>\n",
       "      <td>1.0</td>\n",
       "      <td>215492.0</td>\n",
       "      <td>2</td>\n",
       "      <td>4</td>\n",
       "      <td>1</td>\n",
       "      <td>241</td>\n",
       "      <td>7</td>\n",
       "      <td>Gold</td>\n",
       "    </tr>\n",
       "    <tr>\n",
       "      <th>43</th>\n",
       "      <td>120.0</td>\n",
       "      <td>4.0</td>\n",
       "      <td>158398.0</td>\n",
       "      <td>3</td>\n",
       "      <td>2</td>\n",
       "      <td>2</td>\n",
       "      <td>322</td>\n",
       "      <td>7</td>\n",
       "      <td>Gold</td>\n",
       "    </tr>\n",
       "    <tr>\n",
       "      <th>44</th>\n",
       "      <td>308.0</td>\n",
       "      <td>1.0</td>\n",
       "      <td>7278.0</td>\n",
       "      <td>4</td>\n",
       "      <td>4</td>\n",
       "      <td>4</td>\n",
       "      <td>444</td>\n",
       "      <td>12</td>\n",
       "      <td>Silver</td>\n",
       "    </tr>\n",
       "    <tr>\n",
       "      <th>45</th>\n",
       "      <td>324.0</td>\n",
       "      <td>1.0</td>\n",
       "      <td>25584.0</td>\n",
       "      <td>4</td>\n",
       "      <td>4</td>\n",
       "      <td>4</td>\n",
       "      <td>444</td>\n",
       "      <td>12</td>\n",
       "      <td>Silver</td>\n",
       "    </tr>\n",
       "    <tr>\n",
       "      <th>46</th>\n",
       "      <td>52.0</td>\n",
       "      <td>1.0</td>\n",
       "      <td>42252.0</td>\n",
       "      <td>3</td>\n",
       "      <td>4</td>\n",
       "      <td>3</td>\n",
       "      <td>343</td>\n",
       "      <td>10</td>\n",
       "      <td>Silver</td>\n",
       "    </tr>\n",
       "    <tr>\n",
       "      <th>47</th>\n",
       "      <td>149.0</td>\n",
       "      <td>1.0</td>\n",
       "      <td>178467.0</td>\n",
       "      <td>4</td>\n",
       "      <td>4</td>\n",
       "      <td>2</td>\n",
       "      <td>442</td>\n",
       "      <td>10</td>\n",
       "      <td>Silver</td>\n",
       "    </tr>\n",
       "    <tr>\n",
       "      <th>48</th>\n",
       "      <td>23.0</td>\n",
       "      <td>3.0</td>\n",
       "      <td>415792.0</td>\n",
       "      <td>2</td>\n",
       "      <td>3</td>\n",
       "      <td>1</td>\n",
       "      <td>231</td>\n",
       "      <td>6</td>\n",
       "      <td>Platinum</td>\n",
       "    </tr>\n",
       "    <tr>\n",
       "      <th>49</th>\n",
       "      <td>50.0</td>\n",
       "      <td>5.0</td>\n",
       "      <td>222570.0</td>\n",
       "      <td>2</td>\n",
       "      <td>2</td>\n",
       "      <td>1</td>\n",
       "      <td>221</td>\n",
       "      <td>5</td>\n",
       "      <td>Platinum</td>\n",
       "    </tr>\n",
       "    <tr>\n",
       "      <th>50</th>\n",
       "      <td>33.0</td>\n",
       "      <td>8.0</td>\n",
       "      <td>329075.0</td>\n",
       "      <td>2</td>\n",
       "      <td>1</td>\n",
       "      <td>1</td>\n",
       "      <td>211</td>\n",
       "      <td>4</td>\n",
       "      <td>Platinum</td>\n",
       "    </tr>\n",
       "    <tr>\n",
       "      <th>51</th>\n",
       "      <td>79.0</td>\n",
       "      <td>7.0</td>\n",
       "      <td>459170.0</td>\n",
       "      <td>3</td>\n",
       "      <td>1</td>\n",
       "      <td>1</td>\n",
       "      <td>311</td>\n",
       "      <td>5</td>\n",
       "      <td>Platinum</td>\n",
       "    </tr>\n",
       "  </tbody>\n",
       "</table>\n",
       "</div>"
      ],
      "text/plain": [
       "            Recency  Frequency  Monetary  R  F  M RFMGroup  RFMScore  \\\n",
       "CustomerID                                                             \n",
       "2               4.0        7.0  459170.0  1  1  1      111         3   \n",
       "3              77.0        4.0  257404.0  3  2  1      321         6   \n",
       "4              19.0        1.0  176613.0  2  4  2      242         8   \n",
       "5             311.0        1.0   41976.0  4  4  3      443        11   \n",
       "6              37.0        8.0  151822.0  2  1  2      212         5   \n",
       "7             208.0        1.0    9410.0  4  4  4      444        12   \n",
       "8             233.0        1.0  135550.0  4  4  2      442        10   \n",
       "9             215.0        1.0   65832.0  4  4  3      443        11   \n",
       "10             25.0        3.0  331601.0  2  3  1      231         6   \n",
       "11             34.0        1.0  459170.0  2  4  1      241         7   \n",
       "12              2.0        2.0  105674.0  1  3  2      132         6   \n",
       "13              9.0        6.0  459170.0  1  1  1      111         3   \n",
       "14             53.0        3.0  281630.0  3  3  1      331         7   \n",
       "15            288.0        1.0   21630.0  4  4  4      444        12   \n",
       "16              4.0       11.0  459170.0  1  1  1      111         3   \n",
       "17            110.0        2.0   78378.0  3  3  3      333         9   \n",
       "18              8.0        4.0  205212.0  1  2  2      122         5   \n",
       "19            292.0        1.0   41055.0  4  4  3      443        11   \n",
       "20              6.0        1.0   23537.0  1  4  4      144         9   \n",
       "21             52.0        4.0  459170.0  3  2  1      321         6   \n",
       "22             60.0        1.0  182448.0  3  4  2      342         9   \n",
       "23             72.0        3.0  163883.0  3  3  2      332         8   \n",
       "24            312.0        1.0   42424.0  4  4  3      443        11   \n",
       "25             26.0        1.0   76012.0  2  4  3      243         9   \n",
       "26              4.0        3.0   47361.0  1  3  3      133         7   \n",
       "27            316.0        2.0  200342.0  4  3  2      432         9   \n",
       "28            130.0        1.0  459170.0  3  4  1      341         8   \n",
       "29             83.0        3.0   93618.0  3  3  2      332         8   \n",
       "30             22.0        5.0  295952.0  2  2  1      221         5   \n",
       "31             10.0        4.0  178765.0  1  2  2      122         5   \n",
       "32            190.0        6.0  235678.0  4  1  1      411         6   \n",
       "33             29.0        3.0   45460.0  2  3  3      233         8   \n",
       "34            325.5        2.0   57670.0  4  3  3      433        10   \n",
       "35             16.0        6.0  356353.0  1  1  1      111         3   \n",
       "36             80.0        1.0   68598.0  3  4  3      343        10   \n",
       "37             22.0        1.0   60518.0  2  4  3      243         9   \n",
       "38             73.0        4.0  201327.0  3  2  2      322         7   \n",
       "39             66.0        2.0  148768.0  3  3  2      332         8   \n",
       "40             20.0       11.0  384183.0  2  1  1      211         4   \n",
       "41             36.0        2.0  287355.0  2  3  1      231         6   \n",
       "42             46.0        1.0  215492.0  2  4  1      241         7   \n",
       "43            120.0        4.0  158398.0  3  2  2      322         7   \n",
       "44            308.0        1.0    7278.0  4  4  4      444        12   \n",
       "45            324.0        1.0   25584.0  4  4  4      444        12   \n",
       "46             52.0        1.0   42252.0  3  4  3      343        10   \n",
       "47            149.0        1.0  178467.0  4  4  2      442        10   \n",
       "48             23.0        3.0  415792.0  2  3  1      231         6   \n",
       "49             50.0        5.0  222570.0  2  2  1      221         5   \n",
       "50             33.0        8.0  329075.0  2  1  1      211         4   \n",
       "51             79.0        7.0  459170.0  3  1  1      311         5   \n",
       "\n",
       "           RFM_Loyalty_Level  \n",
       "CustomerID                    \n",
       "2                   Platinum  \n",
       "3                   Platinum  \n",
       "4                       Gold  \n",
       "5                     Silver  \n",
       "6                   Platinum  \n",
       "7                     Silver  \n",
       "8                     Silver  \n",
       "9                     Silver  \n",
       "10                  Platinum  \n",
       "11                      Gold  \n",
       "12                  Platinum  \n",
       "13                  Platinum  \n",
       "14                      Gold  \n",
       "15                    Silver  \n",
       "16                  Platinum  \n",
       "17                      Gold  \n",
       "18                  Platinum  \n",
       "19                    Silver  \n",
       "20                      Gold  \n",
       "21                  Platinum  \n",
       "22                      Gold  \n",
       "23                      Gold  \n",
       "24                    Silver  \n",
       "25                      Gold  \n",
       "26                      Gold  \n",
       "27                      Gold  \n",
       "28                      Gold  \n",
       "29                      Gold  \n",
       "30                  Platinum  \n",
       "31                  Platinum  \n",
       "32                  Platinum  \n",
       "33                      Gold  \n",
       "34                    Silver  \n",
       "35                  Platinum  \n",
       "36                    Silver  \n",
       "37                      Gold  \n",
       "38                      Gold  \n",
       "39                      Gold  \n",
       "40                  Platinum  \n",
       "41                  Platinum  \n",
       "42                      Gold  \n",
       "43                      Gold  \n",
       "44                    Silver  \n",
       "45                    Silver  \n",
       "46                    Silver  \n",
       "47                    Silver  \n",
       "48                  Platinum  \n",
       "49                  Platinum  \n",
       "50                  Platinum  \n",
       "51                  Platinum  "
      ]
     },
     "execution_count": 34,
     "metadata": {},
     "output_type": "execute_result"
    }
   ],
   "source": [
    "## Assigning Loyalty level Names to Scores\n",
    "Loyalty_Level = ['Platinum', 'Gold', 'Silver']\n",
    "Score_cuts = pd.qcut(rfm_df.RFMScore, q = 3, labels = Loyalty_Level)\n",
    "rfm_df['RFM_Loyalty_Level'] = Score_cuts.values\n",
    "rfm_df.head(50)"
   ]
  },
  {
   "cell_type": "code",
   "execution_count": 35,
   "id": "8057c720",
   "metadata": {},
   "outputs": [
    {
     "data": {
      "text/plain": [
       "(4319, 9)"
      ]
     },
     "execution_count": 35,
     "metadata": {},
     "output_type": "execute_result"
    }
   ],
   "source": [
    "rfm_df.shape"
   ]
  },
  {
   "cell_type": "code",
   "execution_count": 36,
   "id": "74d042f9",
   "metadata": {},
   "outputs": [
    {
     "data": {
      "text/plain": [
       "Platinum    1584\n",
       "Silver      1389\n",
       "Gold        1346\n",
       "Name: RFM_Loyalty_Level, dtype: int64"
      ]
     },
     "execution_count": 36,
     "metadata": {},
     "output_type": "execute_result"
    }
   ],
   "source": [
    "rfm_df.groupby(['RFM_Loyalty_Level']).mean()\n",
    "rfm_df.RFM_Loyalty_Level.value_counts()"
   ]
  },
  {
   "cell_type": "code",
   "execution_count": 37,
   "id": "393bd916",
   "metadata": {},
   "outputs": [
    {
     "data": {
      "text/plain": [
       "3"
      ]
     },
     "execution_count": 37,
     "metadata": {},
     "output_type": "execute_result"
    }
   ],
   "source": [
    "## RFM Scores Univariate Analysis\n",
    "\n",
    "rfm_df.RFMScore.min()"
   ]
  },
  {
   "cell_type": "code",
   "execution_count": 38,
   "id": "879152d7",
   "metadata": {},
   "outputs": [
    {
     "data": {
      "text/plain": [
       "12"
      ]
     },
     "execution_count": 38,
     "metadata": {},
     "output_type": "execute_result"
    }
   ],
   "source": [
    "rfm_df.RFMScore.max()"
   ]
  },
  {
   "cell_type": "code",
   "execution_count": 39,
   "id": "ce9a923d",
   "metadata": {},
   "outputs": [
    {
     "data": {
      "text/plain": [
       "8.0"
      ]
     },
     "execution_count": 39,
     "metadata": {},
     "output_type": "execute_result"
    }
   ],
   "source": [
    "rfm_df.RFMScore.median()"
   ]
  },
  {
   "cell_type": "code",
   "execution_count": 40,
   "id": "67f17732",
   "metadata": {},
   "outputs": [
    {
     "data": {
      "text/plain": [
       "10"
      ]
     },
     "execution_count": 40,
     "metadata": {},
     "output_type": "execute_result"
    }
   ],
   "source": [
    "rfm_df.RFMScore.mode()[0]"
   ]
  },
  {
   "cell_type": "code",
   "execution_count": 41,
   "id": "9d9a8b4d",
   "metadata": {},
   "outputs": [
    {
     "data": {
      "text/plain": [
       "7.6441305857837465"
      ]
     },
     "execution_count": 41,
     "metadata": {},
     "output_type": "execute_result"
    }
   ],
   "source": [
    "rfm_df.RFMScore.mean()"
   ]
  },
  {
   "cell_type": "code",
   "execution_count": 42,
   "id": "af04eff7",
   "metadata": {},
   "outputs": [
    {
     "data": {
      "text/plain": [
       "array([ 3,  6,  8, 11,  5, 12, 10,  7,  9,  4], dtype=int64)"
      ]
     },
     "execution_count": 42,
     "metadata": {},
     "output_type": "execute_result"
    }
   ],
   "source": [
    "rfm_df.RFMScore.unique()"
   ]
  },
  {
   "cell_type": "code",
   "execution_count": 43,
   "id": "4ffd8b98",
   "metadata": {},
   "outputs": [
    {
     "data": {
      "text/plain": [
       "10    517\n",
       "9     505\n",
       "3     497\n",
       "11    452\n",
       "8     451\n",
       "12    420\n",
       "7     390\n",
       "6     374\n",
       "5     363\n",
       "4     350\n",
       "Name: RFMScore, dtype: int64"
      ]
     },
     "execution_count": 43,
     "metadata": {},
     "output_type": "execute_result"
    }
   ],
   "source": [
    "rfm_df.RFMScore.value_counts()"
   ]
  },
  {
   "cell_type": "code",
   "execution_count": 44,
   "id": "e87893cb",
   "metadata": {},
   "outputs": [
    {
     "data": {
      "text/plain": [
       "(4319, 9)"
      ]
     },
     "execution_count": 44,
     "metadata": {},
     "output_type": "execute_result"
    }
   ],
   "source": [
    "rfm_df.shape"
   ]
  },
  {
   "cell_type": "code",
   "execution_count": 45,
   "id": "1940a166",
   "metadata": {},
   "outputs": [
    {
     "data": {
      "text/plain": [
       "Platinum    1584\n",
       "Silver      1389\n",
       "Gold        1346\n",
       "Name: RFM_Loyalty_Level, dtype: int64"
      ]
     },
     "execution_count": 45,
     "metadata": {},
     "output_type": "execute_result"
    }
   ],
   "source": [
    "## Number of Customers in Loyalty Levels\n",
    "rfm_df.RFM_Loyalty_Level.value_counts()"
   ]
  },
  {
   "cell_type": "code",
   "execution_count": 46,
   "id": "95422a60",
   "metadata": {},
   "outputs": [
    {
     "data": {
      "text/html": [
       "<div>\n",
       "<style scoped>\n",
       "    .dataframe tbody tr th:only-of-type {\n",
       "        vertical-align: middle;\n",
       "    }\n",
       "\n",
       "    .dataframe tbody tr th {\n",
       "        vertical-align: top;\n",
       "    }\n",
       "\n",
       "    .dataframe thead th {\n",
       "        text-align: right;\n",
       "    }\n",
       "</style>\n",
       "<table border=\"1\" class=\"dataframe\">\n",
       "  <thead>\n",
       "    <tr style=\"text-align: right;\">\n",
       "      <th></th>\n",
       "      <th>Recency</th>\n",
       "      <th>Frequency</th>\n",
       "      <th>Monetary</th>\n",
       "      <th>R</th>\n",
       "      <th>F</th>\n",
       "      <th>M</th>\n",
       "      <th>RFMScore</th>\n",
       "    </tr>\n",
       "  </thead>\n",
       "  <tbody>\n",
       "    <tr>\n",
       "      <th>count</th>\n",
       "      <td>4319.000</td>\n",
       "      <td>4319.000</td>\n",
       "      <td>4319.000</td>\n",
       "      <td>4319.000</td>\n",
       "      <td>4319.000</td>\n",
       "      <td>4319.000</td>\n",
       "      <td>4319.000</td>\n",
       "    </tr>\n",
       "    <tr>\n",
       "      <th>mean</th>\n",
       "      <td>91.014</td>\n",
       "      <td>3.892</td>\n",
       "      <td>145032.489</td>\n",
       "      <td>2.486</td>\n",
       "      <td>2.658</td>\n",
       "      <td>2.500</td>\n",
       "      <td>7.644</td>\n",
       "    </tr>\n",
       "    <tr>\n",
       "      <th>std</th>\n",
       "      <td>96.506</td>\n",
       "      <td>3.273</td>\n",
       "      <td>142162.961</td>\n",
       "      <td>1.127</td>\n",
       "      <td>1.150</td>\n",
       "      <td>1.118</td>\n",
       "      <td>2.887</td>\n",
       "    </tr>\n",
       "    <tr>\n",
       "      <th>min</th>\n",
       "      <td>1.000</td>\n",
       "      <td>1.000</td>\n",
       "      <td>96.000</td>\n",
       "      <td>1.000</td>\n",
       "      <td>1.000</td>\n",
       "      <td>1.000</td>\n",
       "      <td>3.000</td>\n",
       "    </tr>\n",
       "    <tr>\n",
       "      <th>25%</th>\n",
       "      <td>18.000</td>\n",
       "      <td>1.000</td>\n",
       "      <td>38585.000</td>\n",
       "      <td>1.000</td>\n",
       "      <td>2.000</td>\n",
       "      <td>1.500</td>\n",
       "      <td>5.000</td>\n",
       "    </tr>\n",
       "    <tr>\n",
       "      <th>50%</th>\n",
       "      <td>51.000</td>\n",
       "      <td>3.000</td>\n",
       "      <td>84965.000</td>\n",
       "      <td>2.000</td>\n",
       "      <td>3.000</td>\n",
       "      <td>3.000</td>\n",
       "      <td>8.000</td>\n",
       "    </tr>\n",
       "    <tr>\n",
       "      <th>75%</th>\n",
       "      <td>141.000</td>\n",
       "      <td>5.000</td>\n",
       "      <td>206819.000</td>\n",
       "      <td>3.000</td>\n",
       "      <td>4.000</td>\n",
       "      <td>3.500</td>\n",
       "      <td>10.000</td>\n",
       "    </tr>\n",
       "    <tr>\n",
       "      <th>max</th>\n",
       "      <td>325.500</td>\n",
       "      <td>11.000</td>\n",
       "      <td>459170.000</td>\n",
       "      <td>4.000</td>\n",
       "      <td>4.000</td>\n",
       "      <td>4.000</td>\n",
       "      <td>12.000</td>\n",
       "    </tr>\n",
       "  </tbody>\n",
       "</table>\n",
       "</div>"
      ],
      "text/plain": [
       "        Recency  Frequency    Monetary         R         F         M  RFMScore\n",
       "count  4319.000   4319.000    4319.000  4319.000  4319.000  4319.000  4319.000\n",
       "mean     91.014      3.892  145032.489     2.486     2.658     2.500     7.644\n",
       "std      96.506      3.273  142162.961     1.127     1.150     1.118     2.887\n",
       "min       1.000      1.000      96.000     1.000     1.000     1.000     3.000\n",
       "25%      18.000      1.000   38585.000     1.000     2.000     1.500     5.000\n",
       "50%      51.000      3.000   84965.000     2.000     3.000     3.000     8.000\n",
       "75%     141.000      5.000  206819.000     3.000     4.000     3.500    10.000\n",
       "max     325.500     11.000  459170.000     4.000     4.000     4.000    12.000"
      ]
     },
     "execution_count": 46,
     "metadata": {},
     "output_type": "execute_result"
    }
   ],
   "source": [
    "#Fixing Skewness\n",
    "#Perform Log transformation to bring data into normal or near normal distribution\n",
    "Log_Tfd_Data = rfm_df[['Recency', 'Frequency', 'Monetary']].apply(np.log, axis = 1).round(3)\n",
    "Log_Tfd_Data.describe()\n",
    "rfm_df.describe()"
   ]
  },
  {
   "cell_type": "code",
   "execution_count": 47,
   "id": "43ab0d9d",
   "metadata": {},
   "outputs": [
    {
     "name": "stderr",
     "output_type": "stream",
     "text": [
      "C:\\ProgramData\\Anaconda3\\lib\\site-packages\\seaborn\\distributions.py:2619: FutureWarning: `distplot` is a deprecated function and will be removed in a future version. Please adapt your code to use either `displot` (a figure-level function with similar flexibility) or `histplot` (an axes-level function for histograms).\n",
      "  warnings.warn(msg, FutureWarning)\n"
     ]
    },
    {
     "data": {
      "image/png": "[encoded data removed]",
      "text/plain": [
       "<Figure size 432x288 with 1 Axes>"
      ]
     },
     "metadata": {
      "needs_background": "light"
     },
     "output_type": "display_data"
    }
   ],
   "source": [
    "#Data distribution after data normalization for Recency\n",
    "Recency_Plot = Log_Tfd_Data['Recency']\n",
    "ax = sns.distplot(Recency_Plot)"
   ]
  },
  {
   "cell_type": "code",
   "execution_count": 48,
   "id": "755bc0df",
   "metadata": {},
   "outputs": [
    {
     "name": "stderr",
     "output_type": "stream",
     "text": [
      "C:\\ProgramData\\Anaconda3\\lib\\site-packages\\seaborn\\distributions.py:2619: FutureWarning: `distplot` is a deprecated function and will be removed in a future version. Please adapt your code to use either `displot` (a figure-level function with similar flexibility) or `histplot` (an axes-level function for histograms).\n",
      "  warnings.warn(msg, FutureWarning)\n"
     ]
    },
    {
     "data": {
      "image/png": "[encoded data removed]",
      "text/plain": [
       "<Figure size 432x288 with 1 Axes>"
      ]
     },
     "metadata": {
      "needs_background": "light"
     },
     "output_type": "display_data"
    }
   ],
   "source": [
    "#Data distribution after data normalization for Frequency\n",
    "Frequency_Plot = Log_Tfd_Data.query('Frequency < 1000')['Frequency']\n",
    "ax = sns.distplot(Frequency_Plot)"
   ]
  },
  {
   "cell_type": "code",
   "execution_count": 49,
   "id": "09f9a161",
   "metadata": {},
   "outputs": [
    {
     "name": "stderr",
     "output_type": "stream",
     "text": [
      "C:\\ProgramData\\Anaconda3\\lib\\site-packages\\seaborn\\distributions.py:2619: FutureWarning: `distplot` is a deprecated function and will be removed in a future version. Please adapt your code to use either `displot` (a figure-level function with similar flexibility) or `histplot` (an axes-level function for histograms).\n",
      "  warnings.warn(msg, FutureWarning)\n"
     ]
    },
    {
     "data": {
      "image/png": "[encoded data removed]",
      "text/plain": [
       "<Figure size 432x288 with 1 Axes>"
      ]
     },
     "metadata": {
      "needs_background": "light"
     },
     "output_type": "display_data"
    }
   ],
   "source": [
    "#Data distribution after data normalization for Monetary\n",
    "Frequency_Plot = Log_Tfd_Data.query('Monetary < 1000')['Monetary']\n",
    "ax = sns.distplot(Frequency_Plot)"
   ]
  },
  {
   "cell_type": "code",
   "execution_count": 50,
   "id": "e26da209",
   "metadata": {},
   "outputs": [],
   "source": [
    "#Bring the data on same scale\n",
    "scaleobj = StandardScaler()\n",
    "Scaled_Data = scaleobj.fit_transform(rfm_df.iloc[:,0:3])"
   ]
  },
  {
   "cell_type": "code",
   "execution_count": 51,
   "id": "66cfbf05",
   "metadata": {},
   "outputs": [
    {
     "data": {
      "text/html": [
       "<div>\n",
       "<style scoped>\n",
       "    .dataframe tbody tr th:only-of-type {\n",
       "        vertical-align: middle;\n",
       "    }\n",
       "\n",
       "    .dataframe tbody tr th {\n",
       "        vertical-align: top;\n",
       "    }\n",
       "\n",
       "    .dataframe thead th {\n",
       "        text-align: right;\n",
       "    }\n",
       "</style>\n",
       "<table border=\"1\" class=\"dataframe\">\n",
       "  <thead>\n",
       "    <tr style=\"text-align: right;\">\n",
       "      <th></th>\n",
       "      <th>Recency</th>\n",
       "      <th>Frequency</th>\n",
       "      <th>Monetary</th>\n",
       "    </tr>\n",
       "  </thead>\n",
       "  <tbody>\n",
       "    <tr>\n",
       "      <th>count</th>\n",
       "      <td>4319.000</td>\n",
       "      <td>4319.000</td>\n",
       "      <td>4319.000</td>\n",
       "    </tr>\n",
       "    <tr>\n",
       "      <th>mean</th>\n",
       "      <td>91.014</td>\n",
       "      <td>3.892</td>\n",
       "      <td>145032.489</td>\n",
       "    </tr>\n",
       "    <tr>\n",
       "      <th>std</th>\n",
       "      <td>96.506</td>\n",
       "      <td>3.273</td>\n",
       "      <td>142162.961</td>\n",
       "    </tr>\n",
       "    <tr>\n",
       "      <th>min</th>\n",
       "      <td>1.000</td>\n",
       "      <td>1.000</td>\n",
       "      <td>96.000</td>\n",
       "    </tr>\n",
       "    <tr>\n",
       "      <th>25%</th>\n",
       "      <td>18.000</td>\n",
       "      <td>1.000</td>\n",
       "      <td>38585.000</td>\n",
       "    </tr>\n",
       "    <tr>\n",
       "      <th>50%</th>\n",
       "      <td>51.000</td>\n",
       "      <td>3.000</td>\n",
       "      <td>84965.000</td>\n",
       "    </tr>\n",
       "    <tr>\n",
       "      <th>75%</th>\n",
       "      <td>141.000</td>\n",
       "      <td>5.000</td>\n",
       "      <td>206819.000</td>\n",
       "    </tr>\n",
       "    <tr>\n",
       "      <th>max</th>\n",
       "      <td>325.500</td>\n",
       "      <td>11.000</td>\n",
       "      <td>459170.000</td>\n",
       "    </tr>\n",
       "  </tbody>\n",
       "</table>\n",
       "</div>"
      ],
      "text/plain": [
       "        Recency  Frequency    Monetary\n",
       "count  4319.000   4319.000    4319.000\n",
       "mean     91.014      3.892  145032.489\n",
       "std      96.506      3.273  142162.961\n",
       "min       1.000      1.000      96.000\n",
       "25%      18.000      1.000   38585.000\n",
       "50%      51.000      3.000   84965.000\n",
       "75%     141.000      5.000  206819.000\n",
       "max     325.500     11.000  459170.000"
      ]
     },
     "execution_count": 51,
     "metadata": {},
     "output_type": "execute_result"
    }
   ],
   "source": [
    "rfm_df[['Recency','Frequency','Monetary']].describe()"
   ]
  },
  {
   "cell_type": "code",
   "execution_count": 52,
   "id": "e29273dd",
   "metadata": {},
   "outputs": [],
   "source": [
    "#Transform it back to dataframe\n",
    "Scaled_Data = pd.DataFrame(Scaled_Data, index = rfm_df.index, columns = Log_Tfd_Data.columns)"
   ]
  },
  {
   "cell_type": "code",
   "execution_count": 53,
   "id": "96b30620",
   "metadata": {},
   "outputs": [
    {
     "data": {
      "text/html": [
       "<div>\n",
       "<style scoped>\n",
       "    .dataframe tbody tr th:only-of-type {\n",
       "        vertical-align: middle;\n",
       "    }\n",
       "\n",
       "    .dataframe tbody tr th {\n",
       "        vertical-align: top;\n",
       "    }\n",
       "\n",
       "    .dataframe thead th {\n",
       "        text-align: right;\n",
       "    }\n",
       "</style>\n",
       "<table border=\"1\" class=\"dataframe\">\n",
       "  <thead>\n",
       "    <tr style=\"text-align: right;\">\n",
       "      <th></th>\n",
       "      <th>Recency</th>\n",
       "      <th>Frequency</th>\n",
       "      <th>Monetary</th>\n",
       "    </tr>\n",
       "  </thead>\n",
       "  <tbody>\n",
       "    <tr>\n",
       "      <th>count</th>\n",
       "      <td>4.319e+03</td>\n",
       "      <td>4.319e+03</td>\n",
       "      <td>4.319e+03</td>\n",
       "    </tr>\n",
       "    <tr>\n",
       "      <th>mean</th>\n",
       "      <td>8.281e-17</td>\n",
       "      <td>7.969e-19</td>\n",
       "      <td>1.570e-16</td>\n",
       "    </tr>\n",
       "    <tr>\n",
       "      <th>std</th>\n",
       "      <td>1.000e+00</td>\n",
       "      <td>1.000e+00</td>\n",
       "      <td>1.000e+00</td>\n",
       "    </tr>\n",
       "    <tr>\n",
       "      <th>min</th>\n",
       "      <td>-9.328e-01</td>\n",
       "      <td>-8.838e-01</td>\n",
       "      <td>-1.020e+00</td>\n",
       "    </tr>\n",
       "    <tr>\n",
       "      <th>25%</th>\n",
       "      <td>-7.567e-01</td>\n",
       "      <td>-8.838e-01</td>\n",
       "      <td>-7.489e-01</td>\n",
       "    </tr>\n",
       "    <tr>\n",
       "      <th>50%</th>\n",
       "      <td>-4.147e-01</td>\n",
       "      <td>-2.726e-01</td>\n",
       "      <td>-4.226e-01</td>\n",
       "    </tr>\n",
       "    <tr>\n",
       "      <th>75%</th>\n",
       "      <td>5.180e-01</td>\n",
       "      <td>3.386e-01</td>\n",
       "      <td>4.347e-01</td>\n",
       "    </tr>\n",
       "    <tr>\n",
       "      <th>max</th>\n",
       "      <td>2.430e+00</td>\n",
       "      <td>2.172e+00</td>\n",
       "      <td>2.210e+00</td>\n",
       "    </tr>\n",
       "  </tbody>\n",
       "</table>\n",
       "</div>"
      ],
      "text/plain": [
       "         Recency  Frequency   Monetary\n",
       "count  4.319e+03  4.319e+03  4.319e+03\n",
       "mean   8.281e-17  7.969e-19  1.570e-16\n",
       "std    1.000e+00  1.000e+00  1.000e+00\n",
       "min   -9.328e-01 -8.838e-01 -1.020e+00\n",
       "25%   -7.567e-01 -8.838e-01 -7.489e-01\n",
       "50%   -4.147e-01 -2.726e-01 -4.226e-01\n",
       "75%    5.180e-01  3.386e-01  4.347e-01\n",
       "max    2.430e+00  2.172e+00  2.210e+00"
      ]
     },
     "execution_count": 53,
     "metadata": {},
     "output_type": "execute_result"
    }
   ],
   "source": [
    "Scaled_Data.describe()"
   ]
  },
  {
   "cell_type": "code",
   "execution_count": 54,
   "id": "1ad08e20",
   "metadata": {},
   "outputs": [
    {
     "data": {
      "text/html": [
       "<div>\n",
       "<style scoped>\n",
       "    .dataframe tbody tr th:only-of-type {\n",
       "        vertical-align: middle;\n",
       "    }\n",
       "\n",
       "    .dataframe tbody tr th {\n",
       "        vertical-align: top;\n",
       "    }\n",
       "\n",
       "    .dataframe thead th {\n",
       "        text-align: right;\n",
       "    }\n",
       "</style>\n",
       "<table border=\"1\" class=\"dataframe\">\n",
       "  <thead>\n",
       "    <tr style=\"text-align: right;\">\n",
       "      <th></th>\n",
       "      <th>Recency</th>\n",
       "      <th>Frequency</th>\n",
       "      <th>Monetary</th>\n",
       "    </tr>\n",
       "    <tr>\n",
       "      <th>CustomerID</th>\n",
       "      <th></th>\n",
       "      <th></th>\n",
       "      <th></th>\n",
       "    </tr>\n",
       "  </thead>\n",
       "  <tbody>\n",
       "    <tr>\n",
       "      <th>2</th>\n",
       "      <td>-0.902</td>\n",
       "      <td>0.950</td>\n",
       "      <td>2.210</td>\n",
       "    </tr>\n",
       "    <tr>\n",
       "      <th>3</th>\n",
       "      <td>-0.145</td>\n",
       "      <td>0.033</td>\n",
       "      <td>0.791</td>\n",
       "    </tr>\n",
       "    <tr>\n",
       "      <th>4</th>\n",
       "      <td>-0.746</td>\n",
       "      <td>-0.884</td>\n",
       "      <td>0.222</td>\n",
       "    </tr>\n",
       "    <tr>\n",
       "      <th>5</th>\n",
       "      <td>2.280</td>\n",
       "      <td>-0.884</td>\n",
       "      <td>-0.725</td>\n",
       "    </tr>\n",
       "    <tr>\n",
       "      <th>6</th>\n",
       "      <td>-0.560</td>\n",
       "      <td>1.255</td>\n",
       "      <td>0.048</td>\n",
       "    </tr>\n",
       "  </tbody>\n",
       "</table>\n",
       "</div>"
      ],
      "text/plain": [
       "            Recency  Frequency  Monetary\n",
       "CustomerID                              \n",
       "2            -0.902      0.950     2.210\n",
       "3            -0.145      0.033     0.791\n",
       "4            -0.746     -0.884     0.222\n",
       "5             2.280     -0.884    -0.725\n",
       "6            -0.560      1.255     0.048"
      ]
     },
     "execution_count": 54,
     "metadata": {},
     "output_type": "execute_result"
    }
   ],
   "source": [
    "Scaled_Data.head()"
   ]
  },
  {
   "cell_type": "code",
   "execution_count": 55,
   "id": "831f27e8",
   "metadata": {},
   "outputs": [
    {
     "data": {
      "text/plain": [
       "(4319, 3)"
      ]
     },
     "execution_count": 55,
     "metadata": {},
     "output_type": "execute_result"
    }
   ],
   "source": [
    "Scaled_Data.shape"
   ]
  },
  {
   "cell_type": "code",
   "execution_count": 56,
   "id": "5274f665",
   "metadata": {},
   "outputs": [
    {
     "name": "stdout",
     "output_type": "stream",
     "text": [
      "For number of clusters 2 Silhouette Score: 0.500\n",
      "For number of clusters 3 Silhouette Score: 0.508\n",
      "For number of clusters 4 Silhouette Score: 0.462\n",
      "For number of clusters 5 Silhouette Score: 0.422\n",
      "For number of clusters 6 Silhouette Score: 0.419\n",
      "For number of clusters 7 Silhouette Score: 0.417\n",
      "For number of clusters 8 Silhouette Score: 0.384\n",
      "For number of clusters 9 Silhouette Score: 0.385\n",
      "For number of clusters 10 Silhouette Score: 0.383\n"
     ]
    }
   ],
   "source": [
    "#KMeans Model for Clustering\n",
    "sum_of_sq_dist = {}\n",
    "for k in range(1,11):\n",
    "    km = KMeans(n_clusters= k, init= 'k-means++', max_iter= 1000, random_state=123)\n",
    "    km = km.fit(Scaled_Data)\n",
    "    sum_of_sq_dist[k] = km.inertia_\n",
    "    if k>1:\n",
    "        # Calculate Silhoutte Score#\n",
    "        score = silhouette_score(Scaled_Data, km.labels_, metric='euclidean')\n",
    "        # Print the score\n",
    "        #\n",
    "        print('For number of clusters',k,'Silhouette Score: %.3f' % score)"
   ]
  },
  {
   "cell_type": "code",
   "execution_count": 57,
   "id": "f59b5ff9",
   "metadata": {},
   "outputs": [
    {
     "data": {
      "image/png": "[encoded data removed]",
      "text/plain": [
       "<Figure size 432x288 with 2 Axes>"
      ]
     },
     "metadata": {},
     "output_type": "display_data"
    }
   ],
   "source": [
    "# Kelbow method to get best fit for clusters\n",
    "\n",
    "visualizer=kelbow_visualizer(km,Scaled_Data,k=(1,11))"
   ]
  },
  {
   "cell_type": "code",
   "execution_count": 58,
   "id": "1eab0b24",
   "metadata": {},
   "outputs": [
    {
     "data": {
      "image/png": "[encoded data removed]",
      "text/plain": [
       "<Figure size 1080x576 with 4 Axes>"
      ]
     },
     "metadata": {
      "needs_background": "light"
     },
     "output_type": "display_data"
    }
   ],
   "source": [
    "#SilhouetteVisualizer \n",
    "fig, ax = plt.subplots(2, 2, figsize=(15,8))\n",
    "for k in [2, 3, 4, 5]:\n",
    "    '''\n",
    "    Create KMeans instance for different number of clusters\n",
    "    '''\n",
    "    km = KMeans(n_clusters= k, init= 'k-means++', max_iter= 1000, random_state=123)\n",
    "    q, mod = divmod(k, 2)\n",
    "    '''\n",
    "    Create SilhouetteVisualizer instance with KMeans instance\n",
    "    Fit the visualizer\n",
    "    '''\n",
    "    visualizer = SilhouetteVisualizer(km, colors='yellowbrick', ax=ax[q-1][mod])\n",
    "    visualizer.fit(Scaled_Data)\n",
    "    \n",
    "#Silhouette, Elbow Charts gives the optimum number of cluster as 3 with Silhouette Score 0.508"
   ]
  },
  {
   "cell_type": "code",
   "execution_count": 59,
   "id": "6e2be11d",
   "metadata": {},
   "outputs": [
    {
     "name": "stdout",
     "output_type": "stream",
     "text": [
      "For number of clusters 3 Silhouette Score: 0.508\n"
     ]
    }
   ],
   "source": [
    "#Cluster Grouping\n",
    "km = KMeans(n_clusters= 3, init= 'k-means++', max_iter= 1000, random_state=123)\n",
    "km = km.fit(Scaled_Data)\n",
    "score = silhouette_score(Scaled_Data, km.labels_, metric='euclidean')\n",
    "print('For number of clusters',3,'Silhouette Score: %.3f' % score)"
   ]
  },
  {
   "cell_type": "code",
   "execution_count": 60,
   "id": "7e451e4d",
   "metadata": {},
   "outputs": [],
   "source": [
    "Scaled_Data2=Scaled_Data.copy()\n",
    "Scaled_Data2['Cluster'] = km.labels_\n",
    "Scaled_Data2['Silhouette_Value'] = silhouette_samples(Scaled_Data, km.labels_)\n",
    "rfm_df['Silhouette_Value'] = silhouette_samples(Scaled_Data, km.labels_)"
   ]
  },
  {
   "cell_type": "code",
   "execution_count": 61,
   "id": "050548bc",
   "metadata": {},
   "outputs": [],
   "source": [
    "# 3d plot for Clusters\n",
    "get_ipython().run_line_magic('matplotlib', 'qt')\n",
    "fig = plt.figure(figsize=(6,6))\n",
    "ax = Axes3D(fig, auto_add_to_figure=False)\n",
    "fig.add_axes(ax)\n",
    "# get colormap from seaborn\n",
    "cmap = ListedColormap(sns.color_palette(\"twilight\", 3).as_hex())\n",
    "# plot\n",
    "sc = ax.scatter(Scaled_Data2.Recency, Scaled_Data2.Frequency, Scaled_Data2.Monetary, s=40, c=Scaled_Data2.Cluster, marker='o', cmap=cmap, alpha=1)\n",
    "ax.set_xlabel('Recency')\n",
    "ax.set_ylabel('Frequency')\n",
    "ax.set_zlabel('Monetary')\n",
    "# legend\n",
    "plt.legend(*sc.legend_elements(), bbox_to_anchor=(1.05, 1), loc=2)\n",
    "# save\n",
    "plt.savefig(\"rfm_3dplot2\", bbox_inches='tight')\n",
    "#plt.show()\n",
    "get_ipython().run_line_magic('matplotlib', 'inline')"
   ]
  },
  {
   "cell_type": "code",
   "execution_count": 62,
   "id": "62e9a5e8",
   "metadata": {},
   "outputs": [],
   "source": [
    "#Find the clusters for the observation given in the dataset\n",
    "rfm_df['Cluster'] = km.labels_"
   ]
  },
  {
   "cell_type": "code",
   "execution_count": 63,
   "id": "0c30aceb",
   "metadata": {},
   "outputs": [
    {
     "data": {
      "text/plain": [
       "0    2287\n",
       "2    1034\n",
       "1     998\n",
       "Name: Cluster, dtype: int64"
      ]
     },
     "execution_count": 63,
     "metadata": {},
     "output_type": "execute_result"
    }
   ],
   "source": [
    "rfm_df.Cluster.value_counts()"
   ]
  },
  {
   "cell_type": "code",
   "execution_count": 64,
   "id": "855f0d82",
   "metadata": {},
   "outputs": [
    {
     "data": {
      "text/plain": [
       "0.7047215798349984"
      ]
     },
     "execution_count": 64,
     "metadata": {},
     "output_type": "execute_result"
    }
   ],
   "source": [
    "rfm_df.Silhouette_Value.max()"
   ]
  },
  {
   "cell_type": "code",
   "execution_count": 65,
   "id": "e55f529d",
   "metadata": {},
   "outputs": [
    {
     "data": {
      "text/plain": [
       "-0.07456879757836941"
      ]
     },
     "execution_count": 65,
     "metadata": {},
     "output_type": "execute_result"
    }
   ],
   "source": [
    "rfm_df.Silhouette_Value.min()"
   ]
  },
  {
   "cell_type": "code",
   "execution_count": 66,
   "id": "f3ef8650",
   "metadata": {},
   "outputs": [
    {
     "data": {
      "text/plain": [
       "-0.07456879757836941"
      ]
     },
     "execution_count": 66,
     "metadata": {},
     "output_type": "execute_result"
    }
   ],
   "source": [
    "rfm_df.Silhouette_Value.min()"
   ]
  },
  {
   "cell_type": "code",
   "execution_count": 67,
   "id": "2ae52d74",
   "metadata": {},
   "outputs": [
    {
     "data": {
      "text/plain": [
       "(4319, 11)"
      ]
     },
     "execution_count": 67,
     "metadata": {},
     "output_type": "execute_result"
    }
   ],
   "source": [
    "rfm_df.shape"
   ]
  },
  {
   "cell_type": "code",
   "execution_count": 68,
   "id": "624c35ef",
   "metadata": {},
   "outputs": [
    {
     "data": {
      "text/plain": [
       "<AxesSubplot:xlabel='Cluster', ylabel='Monetary'>"
      ]
     },
     "execution_count": 68,
     "metadata": {},
     "output_type": "execute_result"
    },
    {
     "data": {
      "image/png": "[encoded data removed]",
      "text/plain": [
       "<Figure size 432x288 with 1 Axes>"
      ]
     },
     "metadata": {
      "needs_background": "light"
     },
     "output_type": "display_data"
    }
   ],
   "source": [
    "sns.boxplot(x='Cluster',y='Monetary',data=rfm_df)\n",
    "#Cluster 1 Spends Highest and Custer 2 Spends Lowest"
   ]
  },
  {
   "cell_type": "code",
   "execution_count": 69,
   "id": "0a9722d7",
   "metadata": {},
   "outputs": [
    {
     "data": {
      "text/plain": [
       "<AxesSubplot:xlabel='Cluster', ylabel='Frequency'>"
      ]
     },
     "execution_count": 69,
     "metadata": {},
     "output_type": "execute_result"
    },
    {
     "data": {
      "image/png": "[encoded data removed]",
      "text/plain": [
       "<Figure size 432x288 with 1 Axes>"
      ]
     },
     "metadata": {
      "needs_background": "light"
     },
     "output_type": "display_data"
    }
   ],
   "source": [
    "sns.boxplot(x='Cluster',y='Frequency',data=rfm_df)\n",
    "#Cluster 1 Buys Often and Cluster 2 less Often"
   ]
  },
  {
   "cell_type": "code",
   "execution_count": 70,
   "id": "7cf98070",
   "metadata": {},
   "outputs": [
    {
     "data": {
      "text/plain": [
       "<AxesSubplot:xlabel='Cluster', ylabel='Recency'>"
      ]
     },
     "execution_count": 70,
     "metadata": {},
     "output_type": "execute_result"
    },
    {
     "data": {
      "image/png": "[encoded data removed]",
      "text/plain": [
       "<Figure size 432x288 with 1 Axes>"
      ]
     },
     "metadata": {
      "needs_background": "light"
     },
     "output_type": "display_data"
    }
   ],
   "source": [
    "sns.boxplot(x='Cluster',y='Recency',data=rfm_df)\n",
    "#Cluster 1 has made Recent Purchase and Cluster 2 has Old transactions"
   ]
  },
  {
   "cell_type": "code",
   "execution_count": 71,
   "id": "293f53a8",
   "metadata": {},
   "outputs": [
    {
     "name": "stdout",
     "output_type": "stream",
     "text": [
      "<class 'pandas.core.frame.DataFrame'>\n",
      "Int64Index: 4319 entries, 2 to 4372\n",
      "Data columns (total 11 columns):\n",
      " #   Column             Non-Null Count  Dtype   \n",
      "---  ------             --------------  -----   \n",
      " 0   Recency            4319 non-null   float64 \n",
      " 1   Frequency          4319 non-null   float64 \n",
      " 2   Monetary           4319 non-null   float64 \n",
      " 3   R                  4319 non-null   int64   \n",
      " 4   F                  4319 non-null   int64   \n",
      " 5   M                  4319 non-null   int64   \n",
      " 6   RFMGroup           4319 non-null   object  \n",
      " 7   RFMScore           4319 non-null   int64   \n",
      " 8   RFM_Loyalty_Level  4319 non-null   category\n",
      " 9   Silhouette_Value   4319 non-null   float64 \n",
      " 10  Cluster            4319 non-null   object  \n",
      "dtypes: category(1), float64(4), int64(4), object(2)\n",
      "memory usage: 504.5+ KB\n"
     ]
    }
   ],
   "source": [
    "rfm_df1 = rfm_df.replace({'Cluster':{ 0:'Gold',1:'Platinum',2:'Silver'}})\n",
    "rfm_df1.head()\n",
    "rfm_df1.info()"
   ]
  },
  {
   "cell_type": "code",
   "execution_count": 72,
   "id": "e55a3fd4",
   "metadata": {},
   "outputs": [
    {
     "data": {
      "text/html": [
       "<div>\n",
       "<style scoped>\n",
       "    .dataframe tbody tr th:only-of-type {\n",
       "        vertical-align: middle;\n",
       "    }\n",
       "\n",
       "    .dataframe tbody tr th {\n",
       "        vertical-align: top;\n",
       "    }\n",
       "\n",
       "    .dataframe thead th {\n",
       "        text-align: right;\n",
       "    }\n",
       "</style>\n",
       "<table border=\"1\" class=\"dataframe\">\n",
       "  <thead>\n",
       "    <tr style=\"text-align: right;\">\n",
       "      <th></th>\n",
       "      <th>Recency</th>\n",
       "      <th>Frequency</th>\n",
       "      <th>Monetary</th>\n",
       "      <th>R</th>\n",
       "      <th>F</th>\n",
       "      <th>M</th>\n",
       "      <th>RFMScore</th>\n",
       "      <th>Silhouette_Value</th>\n",
       "    </tr>\n",
       "    <tr>\n",
       "      <th>Cluster</th>\n",
       "      <th></th>\n",
       "      <th></th>\n",
       "      <th></th>\n",
       "      <th></th>\n",
       "      <th></th>\n",
       "      <th></th>\n",
       "      <th></th>\n",
       "      <th></th>\n",
       "    </tr>\n",
       "  </thead>\n",
       "  <tbody>\n",
       "    <tr>\n",
       "      <th>Platinum</th>\n",
       "      <td>27.411</td>\n",
       "      <td>8.875</td>\n",
       "      <td>366259.013</td>\n",
       "      <td>1.612</td>\n",
       "      <td>1.135</td>\n",
       "      <td>1.085</td>\n",
       "      <td>3.833</td>\n",
       "      <td>0.482</td>\n",
       "    </tr>\n",
       "    <tr>\n",
       "      <th>Gold</th>\n",
       "      <td>49.465</td>\n",
       "      <td>2.721</td>\n",
       "      <td>91160.208</td>\n",
       "      <td>2.185</td>\n",
       "      <td>2.930</td>\n",
       "      <td>2.726</td>\n",
       "      <td>7.841</td>\n",
       "      <td>0.508</td>\n",
       "    </tr>\n",
       "    <tr>\n",
       "      <th>Silver</th>\n",
       "      <td>244.301</td>\n",
       "      <td>1.672</td>\n",
       "      <td>50662.894</td>\n",
       "      <td>3.994</td>\n",
       "      <td>3.528</td>\n",
       "      <td>3.366</td>\n",
       "      <td>10.888</td>\n",
       "      <td>0.535</td>\n",
       "    </tr>\n",
       "  </tbody>\n",
       "</table>\n",
       "</div>"
      ],
      "text/plain": [
       "          Recency  Frequency    Monetary      R      F      M  RFMScore  \\\n",
       "Cluster                                                                   \n",
       "Platinum   27.411      8.875  366259.013  1.612  1.135  1.085     3.833   \n",
       "Gold       49.465      2.721   91160.208  2.185  2.930  2.726     7.841   \n",
       "Silver    244.301      1.672   50662.894  3.994  3.528  3.366    10.888   \n",
       "\n",
       "          Silhouette_Value  \n",
       "Cluster                     \n",
       "Platinum             0.482  \n",
       "Gold                 0.508  \n",
       "Silver               0.535  "
      ]
     },
     "execution_count": 72,
     "metadata": {},
     "output_type": "execute_result"
    }
   ],
   "source": [
    "rfm_df1.groupby(['Cluster']).mean().sort_values(['Monetary'],ascending=False)"
   ]
  },
  {
   "cell_type": "code",
   "execution_count": 73,
   "id": "9f8d3a2f",
   "metadata": {},
   "outputs": [
    {
     "data": {
      "image/png": "[encoded data removed]",
      "text/plain": [
       "<Figure size 576x360 with 2 Axes>"
      ]
     },
     "metadata": {
      "needs_background": "light"
     },
     "output_type": "display_data"
    }
   ],
   "source": [
    "#Comparison of Statistical RFM Groups vs KMeans RFM Group\n",
    "\n",
    "pd.crosstab(rfm_df1['RFM_Loyalty_Level'],rfm_df1['Cluster'])\n",
    "cross_table=pd.crosstab(rfm_df1['RFM_Loyalty_Level'],rfm_df1['Cluster'])/4319*100\n",
    "cross_table\n",
    "fig, ax = plt.subplots(figsize=(8, 5))\n",
    "sns.heatmap(cross_table/100,\n",
    "                annot=True,\n",
    "                fmt='.2%',\n",
    "                #cmap='rocket_r',\n",
    "                #linewidths=.5,\n",
    "                ax=ax)\n",
    "ax.set_title(\"Comparison of Statistical RFM Groups vs KMeans RFM Group\")\n",
    "plt.show()\n"
   ]
  },
  {
   "cell_type": "code",
   "execution_count": 74,
   "id": "38f0f780",
   "metadata": {},
   "outputs": [],
   "source": [
    "rfm_df1.to_excel(\"Final Data.xlsx\")"
   ]
  },
  {
   "cell_type": "code",
   "execution_count": 75,
   "id": "b0a337c0",
   "metadata": {},
   "outputs": [],
   "source": [
    "from sklearn.cluster import AgglomerativeClustering\n",
    "from scipy.cluster.hierarchy import dendrogram"
   ]
  },
  {
   "cell_type": "code",
   "execution_count": 76,
   "id": "d4616a6f",
   "metadata": {},
   "outputs": [],
   "source": [
    "agglo = AgglomerativeClustering(n_clusters=3, compute_distances=True).fit(Scaled_Data)"
   ]
  },
  {
   "cell_type": "code",
   "execution_count": 77,
   "id": "4a8ad4a6",
   "metadata": {},
   "outputs": [
    {
     "data": {
      "image/png": "[encoded data removed]",
      "text/plain": [
       "<Figure size 1080x576 with 1 Axes>"
      ]
     },
     "metadata": {
      "needs_background": "light"
     },
     "output_type": "display_data"
    }
   ],
   "source": [
    "def plot_dendrogram(agglo, **kwargs):\n",
    "    \n",
    "    counts = np.zeros(agglo.children_.shape[0])\n",
    "    n_samples = len(agglo.labels_)\n",
    "    for i, merge in enumerate(agglo.children_):\n",
    "        current_count = 0\n",
    "        for child_idx in merge:\n",
    "            if child_idx < n_samples:\n",
    "                current_count += 1\n",
    "            else:\n",
    "                current_count += counts[child_idx - n_samples]\n",
    "        counts[i] = current_count\n",
    "\n",
    "    linkage_matrix = np.column_stack([agglo.children_, agglo.distances_, counts]).astype(float)\n",
    "\n",
    "    dendrogram(linkage_matrix, **kwargs)\n",
    "    \n",
    "\n",
    "plt.figure(figsize=(15,8))\n",
    "plt.title('Hierarchical Clustering Dendrogram')\n",
    "plot_dendrogram(agglo, truncate_mode='level', p=3)\n",
    "plt.show()"
   ]
  },
  {
   "cell_type": "code",
   "execution_count": 78,
   "id": "b86d00bd",
   "metadata": {},
   "outputs": [],
   "source": [
    "# creating a list of labels generated by the kmeans model\n",
    "labels_kmeans = list(km.labels_)\n",
    "\n",
    "# creating a list of labels generated by the agglomerative clustering model\n",
    "labels_agglo = list(agglo.labels_)"
   ]
  },
  {
   "cell_type": "code",
   "execution_count": 79,
   "id": "6ca988cd",
   "metadata": {},
   "outputs": [
    {
     "name": "stdout",
     "output_type": "stream",
     "text": [
      "Cluster 0 - KMeans:  2287\n",
      "Cluster 1 - KMeans:  998\n",
      "Cluster 2 - KMeans:  1034\n",
      "\n",
      "Cluster 0 - Agglomerative:  1209\n",
      "Cluster 1 - Agglomerative:  2278\n",
      "Cluster 2 - Agglomerative:  832\n"
     ]
    }
   ],
   "source": [
    "# printing the size of the kmeans clusters\n",
    "print('Cluster 0 - KMeans: ', labels_kmeans.count(0))\n",
    "print('Cluster 1 - KMeans: ', labels_kmeans.count(1))\n",
    "print('Cluster 2 - KMeans: ', labels_kmeans.count(2))\n",
    "\n",
    "\n",
    "print()\n",
    "\n",
    "# printing the size of the agglomerative clusters\n",
    "print('Cluster 0 - Agglomerative: ', labels_agglo.count(0))\n",
    "print('Cluster 1 - Agglomerative: ', labels_agglo.count(1))\n",
    "print('Cluster 2 - Agglomerative: ', labels_agglo.count(2))"
   ]
  },
  {
   "cell_type": "code",
   "execution_count": 80,
   "id": "de22045f",
   "metadata": {},
   "outputs": [
    {
     "data": {
      "text/plain": [
       "0.48301708142765554"
      ]
     },
     "execution_count": 80,
     "metadata": {},
     "output_type": "execute_result"
    }
   ],
   "source": [
    "silhouette_score(Scaled_Data, agglo.labels_)"
   ]
  },
  {
   "cell_type": "code",
   "execution_count": null,
   "id": "988243f2",
   "metadata": {},
   "outputs": [],
   "source": []
  },
  {
   "cell_type": "code",
   "execution_count": null,
   "id": "28dd1b37",
   "metadata": {},
   "outputs": [],
   "source": []
  },
  {
   "cell_type": "code",
   "execution_count": null,
   "id": "eb3dc1c6",
   "metadata": {},
   "outputs": [],
   "source": []
  }
 ],
 "metadata": {
  "kernelspec": {
   "display_name": "Python 3 (ipykernel)",
   "language": "python",
   "name": "python3"
  },
  "language_info": {
   "codemirror_mode": {
    "name": "ipython",
    "version": 3
   },
   "file_extension": ".py",
   "mimetype": "text/x-python",
   "name": "python",
   "nbconvert_exporter": "python",
   "pygments_lexer": "ipython3",
   "version": "3.9.7"
  }
 },
 "nbformat": 4,
 "nbformat_minor": 5
}
